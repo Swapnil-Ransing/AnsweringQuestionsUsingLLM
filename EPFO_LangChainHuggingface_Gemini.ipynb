{
  "cells": [
    {
      "cell_type": "markdown",
      "metadata": {
        "id": "DAbr_Vi6fGf2"
      },
      "source": [
        "# POC - EPFO Question and Answer System\n",
        "## Account (UAN) (creation, documents required, claims), KYC (procedure, update)\n",
        "This is an end to end LLM project based on Google Palm and Langchain. In this project a question and answer system related to EPFO (Employee's Provident Fund Organization) is developed. EPFO is one of the World's largest Social Security Organisations in terms of clientele and the volume of financial transactions undertaken. In the developed project questions related to account (UAN) (creation, documents required, claims), KYC (procedure, update) etc. are tried to answered using google palm large language model."
      ]
    },
    {
      "cell_type": "markdown",
      "metadata": {
        "id": "_vIpZj6dhzuA"
      },
      "source": [
        "## Project Architecture:\n",
        "1. **CSV loading :** CSV loader from langchain document loader will load the csv question and answer file.\n",
        "2. **Database questions embedding :** Questions from CSV question and answer file will be embedded using <u>huggingface embeding</u>.\n",
        "3. **Vector Database :** Embedded questions and corresponding answers will be stored using <u>FAISS</u>.\n",
        "4. **Creating a retrieval chain :** Using a <u>prompt template</u>  and <u>google palm api</u> retrieval chain will be prepared.\n",
        "\n",
        "## Output:\n",
        "Output will be an answer based on the input question. Following will happen in the background.\n",
        "1. A question asked to the retrieval chain will try to find the similar questions from the vector database.\n",
        "2. Corresponding answers from the vector database of the relevant questions from step 1 will be outputted nicely using google palm llm."
      ]
    },
    {
      "cell_type": "markdown",
      "metadata": {
        "id": "y6Bs3q5Ygyu1"
      },
      "source": [
        "## Setting up the API keys"
      ]
    },
    {
      "cell_type": "code",
      "execution_count": 1,
      "metadata": {},
      "outputs": [
        {
          "data": {
            "text/plain": [
              "True"
            ]
          },
          "execution_count": 1,
          "metadata": {},
          "output_type": "execute_result"
        }
      ],
      "source": [
        "import os\n",
        "from dotenv import load_dotenv\n",
        "load_dotenv()"
      ]
    },
    {
      "cell_type": "code",
      "execution_count": 2,
      "metadata": {},
      "outputs": [],
      "source": [
        "os.environ[\"GOOGLE_API_KEY\"]=os.getenv(\"google_api_key\")\n",
        "os.environ[\"LANGCHAIN_API_KEY\"]=os.getenv(\"langchain_api_key\")\n",
        "os.environ[\"LANGCHAIN_TRACING_V2\"]=\"true\"\n",
        "os.environ[\"LANGCHAIN_PROJECT\"]=os.getenv(\"langchain_project\")\n",
        "os.environ[\"GROQ_API_KEY\"]=os.getenv(\"groq_api_key\")\n",
        "os.environ[\"HF_TOKEN\"] = os.getenv('huggingface_access_token')"
      ]
    },
    {
      "cell_type": "markdown",
      "metadata": {
        "id": "CsxZ7jmllt0E"
      },
      "source": [
        "## CSV Loading"
      ]
    },
    {
      "cell_type": "code",
      "execution_count": 3,
      "metadata": {},
      "outputs": [],
      "source": [
        "from langchain_community.document_loaders import CSVLoader"
      ]
    },
    {
      "cell_type": "code",
      "execution_count": 4,
      "metadata": {
        "colab": {
          "base_uri": "https://localhost:8080/"
        },
        "id": "PnfCxzVpF6kt",
        "outputId": "93a605fb-06ea-419f-d53a-f84be4093561"
      },
      "outputs": [
        {
          "data": {
            "text/plain": [
              "[Document(metadata={'source': 'What is Universal Account Number or UAN', 'row': 0}, page_content='Question: What is Universal Account Number or UAN\\nAnswer: UAN is 12-digit number provided to each member of EPFO. The UAN acts as an umbrella for the multiple Member IDs allotted to an individual. This number acts as a pivot to link multiple Member Identification Numbers (Member Id) allotted to a single member under single Universal Account Number. UAN duly seeded with KYC detail. This enables the member to avail various online services directly without the need for any intermediation by the employer.'),\n",
              " Document(metadata={'source': 'What is KYC', 'row': 1}, page_content='Question: What is KYC\\nAnswer: Know Your Customer or KYC is a one-time process which helps in identity verification of subscribers by linking UAN with KYC details. The Employees / Employers need to provide KYC details viz., Aadhaar, PAN, Bank etc., for unique identification of the employees enabling seamless online services.'),\n",
              " Document(metadata={'source': 'How can the employer generate UAN for newly joined employees not having UAN', 'row': 2}, page_content='Question: How can the employer generate UAN for newly joined employees not having UAN\\nAnswer: The employer has to login to EPF employer portal using the User ID and password and follow the below given steps: [ Link: https://unifiedportal-emp.epfindia.gov.in/epfo/ ] o Go to \\x93Member\\x94 section. o Click on the \\x93Register Individual\\x94. Check the previous employment as \\x93NO\\x94. o Enter the employee\\x92s details and KYC details such as PAN, Aadhaar, Bank details, etc. o Approve all details in the \\x93Approval\\x94 section. o A new UAN is generated by EPFO and the employer can link the PF account with UAN of the employee.'),\n",
              " Document(metadata={'source': 'How can an employee generate his UAN on his own', 'row': 3}, page_content='Question: How can an employee generate his UAN on his own\\nAnswer: An employee can generate his UAN by visiting the unified member portal https://unifiedportal-mem.epfindia.gov.in/memberinterface/noauth/citizenRegistration/viewRegistraton? and clicking on \\x93Direct UAN Allotment by Employees\\x94. A valid Aadhaar number with registered mobile is pre-requisite to avail this facility. Employee has to provide employment details to obtain UAN.'),\n",
              " Document(metadata={'source': 'How can a member know his UAN', 'row': 4}, page_content='Question: How can a member know his UAN\\nAnswer: o Visit unified member portal. o Enter mobile number as per EPFO records. o Click on the \\x93Get Authorization Pin\\x94 option. o A Pin will be sent to your mobile number registered with EPFO and enter the Pin. o Enter the details such as name, Date of Birth as per EPFO records and select any one of Aadhaar, PAN, Member Id and furnish the details then click \\x93Show my UAN\\x94.'),\n",
              " Document(metadata={'source': 'How can a member activate his UAN', 'row': 5}, page_content='Question: How can a member activate his UAN\\nAnswer: o Visit EPF Member Portal and click on \\x93Activate UAN\\x94 OR UAN Activation under Employee Centric Services of EPFO on UMANG APP o Select any one of the following \\x96 UAN, Member ID, Aadhaar or PAN. o Fill additional details such as Name, Date of Birth, Mobile Number and Email ID and click on \\x93Get Authorization PIN\\x94 o An authorization PIN will be sent to the mobile number registered with EPFO o Enter this PIN and click on \\x93Validate OTP and Activate UAN\\x94 o UAN will be activated and password will be sent to member\\x92s mobile. Now the member can log in to unified member portal using his UAN and password.'),\n",
              " Document(metadata={'source': 'Can one mobile number be linked with multiple UANs', 'row': 6}, page_content='Question: Can one mobile number be linked with multiple UANs\\nAnswer: One mobile number can be used for registration with one UAN only.'),\n",
              " Document(metadata={'source': '. How to activate UAN via offline mode', 'row': 7}, page_content='Question: . How to activate UAN via offline mode\\nAnswer: No. UAN registration and activation is done only online'),\n",
              " Document(metadata={'source': 'Can contractual employees register their UAN and avail online facilities', 'row': 8}, page_content='Question: Can contractual employees register their UAN and avail online facilities\\nAnswer: Both contractual, as well as direct employees, can avail UAN facilities online after registration and activation.'),\n",
              " Document(metadata={'source': 'In which format I should create my UAN password', 'row': 9}, page_content='Question: In which format I should create my UAN password\\nAnswer: The password should be alphanumeric, have minimum 1 Special Character and 8 - 25 character long. Special characters are: ! @ # $ % ^ & * ( ) Sample Password : abc@1973'),\n",
              " Document(metadata={'source': 'What can I do if my UAN is not seeded with Aadhaar', 'row': 10}, page_content='Question: What can I do if my UAN is not seeded with Aadhaar\\nAnswer: Member can himself seed UAN with Aadhaar by visiting member portal. Thereafter the employer must approve the same to complete the linkage. Alternatively, member can ask his employer to link Aadhaar with UAN. The member can use \\x93e-KYC Portal\\x94 under Online Service available on home page of EPFO website or e-KYC service under EPFO in UMANG APP to link his/her UAN with Aadhaar without employer\\x92s intervention.'),\n",
              " Document(metadata={'source': 'How to correct wrong aadhar with UAN', 'row': 11}, page_content='Question: How to correct wrong aadhar with UAN\\nAnswer: Member has to apply for correction to Regional office of EPFO where his EPF account is maintained through submission of joint request.'),\n",
              " Document(metadata={'source': 'How can I seed my KYC details with UAN', 'row': 12}, page_content='Question: How can I seed my KYC details with UAN\\nAnswer: o Login to your EPF account at the unified member portal o Click on the \\x93KYC\\x94 option in the \\x93Manage\\x94 section o You can select the details (PAN, Bank Account, Aadhar etc) which you want to link with UAN o Fill in the requisite fields o Now click on the \\x93Save\\x94 option o Your request will be displayed in \\x93KYC Pending for Approval\\x94 o Once employer approves the details the message will be changed to \\x93Digitally approved by the employer\\x94 o Once UIDAI confirms your details, \\x93Verified by UIDAI\\x94 is displayed against your Aadhaar.'),\n",
              " Document(metadata={'source': 'How can I seed my Bank account details', 'row': 13}, page_content='Question: How can I seed my Bank account details\\nAnswer: o Login to your EPF account at the unified member portal o Enter your bank account number and IFSC code. o The details have to be approved by your employer. o Once approved the bank account gets seeded.'),\n",
              " Document(metadata={'source': 'Can I change my already seeded Bank account number', 'row': 14}, page_content='Question: Can I change my already seeded Bank account number\\nAnswer: Yes. The bank account number can be updated any number of times by following the steps mentioned above. However, the bank account details cannot be changed during pendency of any claim with EPFO.'),\n",
              " Document(metadata={'source': 'What precautions should I take while seeding Bank account number', 'row': 15}, page_content='Question: What precautions should I take while seeding Bank account number\\nAnswer: You should seed active bank account to which you are either an individual or joint holder with your spouse. Also ensure that the bank account does not have a deposit cap greater than your withdrawal benefit.'),\n",
              " Document(metadata={'source': 'I have changed my job. Should I activate my UAN again', 'row': 16}, page_content='Question: I have changed my job. Should I activate my UAN again\\nAnswer: UAN has to be activated only once. You do not have to re-activate it every time you switch jobs.'),\n",
              " Document(metadata={'source': 'Do I have to pay any fee for UAN registration', 'row': 17}, page_content='Question: Do I have to pay any fee for UAN registration\\nAnswer: No, UAN registration is free of cost and you do not have to pay any fee to activate it.'),\n",
              " Document(metadata={'source': 'Can I activate UAN through SMS or mobile app', 'row': 18}, page_content='Question: Can I activate UAN through SMS or mobile app\\nAnswer: You cannot activate UAN through SMS. However, you can activate UAN through Umang App. To download Umang app, please visit Google Play store.'),\n",
              " Document(metadata={'source': 'What are the documents required for change in Date of Birth of EPF members', 'row': 19}, page_content='Question: What are the documents required for change in Date of Birth of EPF members\\nAnswer: Any of the following documents may be accepted as valid proof of date of birth: o Birth certificate issued by the Registrar of Births and Deaths o Any School / education related certificate o Certificate based on the service records of the Central / State Government Organization. o Passport o Any other reliable document issued by a Government department. o In the absence of proof of date of birth as above, Medical certificate issued by Civil Surgeon after examining the member medically and supported with an affidavit on oath by the member duly authenticated by a competent court. o Aadhaar / e-Aadhaar: The change in date of birth shall be accepted as per Aadhaar /eAadhaar upto a maximum range of plus or minus three years of the date of birth recorded earlier with EPFO.'),\n",
              " Document(metadata={'source': 'Do I need to upload documents on the EPFO Portal', 'row': 20}, page_content='Question: Do I need to upload documents on the EPFO Portal\\nAnswer: No, you are not required to upload documents on the EPFO Portal. Just the name as per the document and the document number must be specified.'),\n",
              " Document(metadata={'source': 'What are the minimum details which are required to be linked with UAN for availing online services', 'row': 21}, page_content='Question: What are the minimum details which are required to be linked with UAN for availing online services\\nAnswer: Mobile, Aadhar and Bank account number.'),\n",
              " Document(metadata={'source': 'Is linking PAN with UAN beneficial for availing online services', 'row': 22}, page_content='Question: Is linking PAN with UAN beneficial for availing online services\\nAnswer: Yes, if you link your PAN number with UAN then you can avail tax benefits on EPF withdrawal'),\n",
              " Document(metadata={'source': 'My name is same in PAN card and Aadhaar card but I am not able to link it with my UAN', 'row': 23}, page_content='Question: My name is same in PAN card and Aadhaar card but I am not able to link it with my UAN\\nAnswer: The name as per Aadhaar and PAN must be same as that in PF records for KYC to be successfully completed. Please note that the name as printed on PAN card may be different from that in the Income Tax database. In such a case you must enter the name as per IT database to get it successfully linked with UAN. If there is a name mismatch then a name change request can be raised.'),\n",
              " Document(metadata={'source': 'What to do if my employer is not approving KYC', 'row': 24}, page_content='Question: What to do if my employer is not approving KYC\\nAnswer: In case your employer is not approving KYC details, you can directly approach administration or HR department with request. If it is taking more time you can escalate it to higher authority in the organization. If no one is responding to your request you can approach EPF Grievance via http://epfigms.gov.in.'),\n",
              " Document(metadata={'source': 'How do I know that KYC updated by me is approved by the employer', 'row': 25}, page_content='Question: How do I know that KYC updated by me is approved by the employer\\nAnswer: The status will be shown against updated KYC document on the same page. The system will also trigger SMS on your register mobile number.'),\n",
              " Document(metadata={'source': 'My employer erroneously entered wrong PAN and Bank account details', 'row': 26}, page_content='Question: My employer erroneously entered wrong PAN and Bank account details\\nAnswer: You can login to your member portal and update the PAN and Bank account details yourself. The same will be digitally approved/updated by the employer'),\n",
              " Document(metadata={'source': 'My employer has not updated my date of exit despite lapse of two months after leaving job. How can I update my date of exit', 'row': 27}, page_content='Question: My employer has not updated my date of exit despite lapse of two months after leaving job. How can I update my date of exit\\nAnswer: o Visit Member Unified Portal o Enter UAN, Password and CAPTCHA. o Go to Manage and Click Mark Exit o Choose \\x91PF Account Number\\x92 from \\x91select employment\\x92 drop down o Enter \\x91Date of Exit\\x92 and \\x91Reason of Exit\\x92 o Click on option \\x91Request OTP\\x92 and enter OTP sent on your Aadhaar linked Mobile Number o Select the Checkbox o Click \\x91Update\\x92 o Click \\x91OK\\x92'),\n",
              " Document(metadata={'source': 'How to change my UAN linked mobile number', 'row': 28}, page_content='Question: How to change my UAN linked mobile number\\nAnswer: After login into the Member Interface of Unified Portal, there is a provision in \\x93Member Profile\\x94 section to change your mobile number.'),\n",
              " Document(metadata={'source': 'Can I apply online claim if my mobile is not linked with Aadhaar', 'row': 29}, page_content='Question: Can I apply online claim if my mobile is not linked with Aadhaar\\nAnswer: No, you cannot submit online claim if your mobile is not linked with Aadhaar. At the time of claim submission, OTP is sent to Aadhaar linked mobile only.'),\n",
              " Document(metadata={'source': 'What to do if my Aadhaar is not linked with mobile', 'row': 30}, page_content='Question: What to do if my Aadhaar is not linked with mobile\\nAnswer: Please visit your nearest Aadhaar Service Centre. For more details you can visit official website of UIDAI https://uidai.gov.in.'),\n",
              " Document(metadata={'source': 'What to do if I forgot my password', 'row': 31}, page_content='Question: What to do if I forgot my password\\nAnswer: Please click on \\x93Forgot Password\\x94 at Member Interface of Unified Portal. Provide your UAN with CAPTCHA. System will send the OTP on your mobile which is seeded with UAN and you can reset the password.'),\n",
              " Document(metadata={'source': 'What to do if I forgot my password and my registered mobile with UAN has also changed', 'row': 32}, page_content='Question: What to do if I forgot my password and my registered mobile with UAN has also changed\\nAnswer: Please click on \\x93Forgot Password\\x94 at Member Interface of Unified Portal. Provide your UAN with CAPTCHA. System will ask whether OTP is to be sent on registered mobile or some other mobile. System will ask to enter your basic details (Name, DOB and Gender). After successful matching of basic details system will ask to provide your Aadhar or PAN. If KYC details are matched system will ask new mobile number and OTP will be sent to the new mobile. After successful verification of OTP, you can reset your password.'),\n",
              " Document(metadata={'source': 'What is to be done in case I change the job and join somewhere else', 'row': 33}, page_content='Question: What is to be done in case I change the job and join somewhere else\\nAnswer: You need to simply declare your UAN with your subsequent employer.'),\n",
              " Document(metadata={'source': 'Which claims that can be filed online', 'row': 34}, page_content='Question: Which claims that can be filed online\\nAnswer: You can file Withdrawal, Advance, and Pension claim (after e-Nomination) online through EPFO Member Portal or through Umang app.'),\n",
              " Document(metadata={'source': 'How can I view/download my passbook', 'row': 35}, page_content='Question: How can I view/download my passbook\\nAnswer: First of all, you need to login to the UAN Member Portal with your UAN and password. Then go to the menu \\x91Download\\x92 and select \\x91Download Passbook\\x92. A link provided to download PDF of this passbook.'),\n",
              " Document(metadata={'source': 'How can I view or download my UAN card', 'row': 36}, page_content='Question: How can I view or download my UAN card\\nAnswer: You need to login first with your valid UAN and password. Then go to \\x91Download\\x92 Menu and select an option \\x91Download UAN Card\\x92. PDF of UAN card can be downloaded.'),\n",
              " Document(metadata={'source': 'I am not able to see the Passbook or Passbook is not available', 'row': 37}, page_content='Question: I am not able to see the Passbook or Passbook is not available\\nAnswer: In case you are working in an Exempted establishment then your passbook will not be available in the UAN portal. You may contact your establishment to get the PF statement.'),\n",
              " Document(metadata={'source': 'Two UAN allotted to me what should I do', 'row': 38}, page_content='Question: Two UAN allotted to me what should I do\\nAnswer: In case two UAN are allotted to you, this could be because of not filling of Date of Exit by your previous employer in ECR filing and / or you have applied for transfer of service in your current establishment. In such a case, it is suggested to immediately report the matter to your employer and through email to EPFO (uanepf@epfindia.gov.in) by mentioning, both -your current UAN and your previous UAN(s). After due verification, the previous UAN(s) allotted to you will be blocked and the current UAN will be kept active.'),\n",
              " Document(metadata={'source': 'Why I am not able to link or list previous member IDs pertaining to me', 'row': 39}, page_content='Question: Why I am not able to link or list previous member IDs pertaining to me\\nAnswer: As the details are matched with previous Member ID w.r.t. current Member ID and if there is any deviation in name etc. it will not allow for link / list Member ID.'),\n",
              " Document(metadata={'source': 'How to change Name and DOB in EPFO records as per Aadhaar Card', 'row': 40}, page_content='Question: How to change Name and DOB in EPFO records as per Aadhaar Card\\nAnswer: o Enter UAN, Password and CAPTCHA. o Click Sign-in o Click Manage and then Click Modify Basic Details o Enter Aadhaar, Name and DOB as per Aadhaar. Click Save/Submit. Click \\x93Yes\\x94. o Inform your Employer to approve your Name Change Request')]"
            ]
          },
          "execution_count": 4,
          "metadata": {},
          "output_type": "execute_result"
        }
      ],
      "source": [
        "# Load the data from EPFO faq's\n",
        "# loader = CSVLoader(file_path='C:\\Swapnil\\GenerativeAI\\Practice_1\\EPFO_Chatbot_Project\\EPFO_FAQs.csv', encoding='unicode_escape', source_column=\"Question \")\n",
        "loader = CSVLoader(file_path='EPFO_FAQs.csv', encoding='unicode_escape', source_column=\"Question \")\n",
        "\n",
        "# Store the loaded data in the 'data' variable\n",
        "data = loader.load()\n",
        "\n",
        "# correcting the rows as there are only specific number of questions\n",
        "data=data[:41]\n",
        "\n",
        "# lets check the read data\n",
        "data"
      ]
    },
    {
      "cell_type": "markdown",
      "metadata": {
        "id": "CO4gJV5Pl6ww"
      },
      "source": [
        "## Creating a vector database and question embedding"
      ]
    },
    {
      "cell_type": "code",
      "execution_count": 5,
      "metadata": {},
      "outputs": [],
      "source": [
        "from langchain_huggingface import HuggingFaceEmbeddings"
      ]
    },
    {
      "cell_type": "code",
      "execution_count": 6,
      "metadata": {},
      "outputs": [
        {
          "name": "stderr",
          "output_type": "stream",
          "text": [
            "c:\\Swapnil\\GenerativeAI\\Practice_1\\.venv\\lib\\site-packages\\tqdm\\auto.py:21: TqdmWarning: IProgress not found. Please update jupyter and ipywidgets. See https://ipywidgets.readthedocs.io/en/stable/user_install.html\n",
            "  from .autonotebook import tqdm as notebook_tqdm\n",
            "c:\\Swapnil\\GenerativeAI\\Practice_1\\.venv\\lib\\site-packages\\huggingface_hub\\file_download.py:144: UserWarning: `huggingface_hub` cache-system uses symlinks by default to efficiently store duplicated files but your machine does not support them in C:\\Users\\HP\\.cache\\huggingface\\hub\\models--sentence-transformers--all-mpnet-base-v2. Caching files will still work but in a degraded version that might require more space on your disk. This warning can be disabled by setting the `HF_HUB_DISABLE_SYMLINKS_WARNING` environment variable. For more details, see https://huggingface.co/docs/huggingface_hub/how-to-cache#limitations.\n",
            "To support symlinks on Windows, you either need to activate Developer Mode or to run Python as an administrator. In order to activate developer mode, see this article: https://docs.microsoft.com/en-us/windows/apps/get-started/enable-your-device-for-development\n",
            "  warnings.warn(message)\n",
            "Xet Storage is enabled for this repo, but the 'hf_xet' package is not installed. Falling back to regular HTTP download. For better performance, install the package with: `pip install huggingface_hub[hf_xet]` or `pip install hf_xet`\n"
          ]
        }
      ],
      "source": [
        "embeddings = HuggingFaceEmbeddings(model_name=\"all-mpnet-base-v2\")"
      ]
    },
    {
      "cell_type": "code",
      "execution_count": 7,
      "metadata": {},
      "outputs": [],
      "source": [
        "from langchain_community.vectorstores import FAISS"
      ]
    },
    {
      "cell_type": "code",
      "execution_count": 8,
      "metadata": {
        "id": "Zpzy8k8iI2qq"
      },
      "outputs": [],
      "source": [
        "# Create a FAISS instance for vector database from 'data'\n",
        "vectordb = FAISS.from_documents(documents=data,embedding=embeddings)\n",
        "\n",
        "# Create a retriever for querying the vector database\n",
        "# retriever = vectordb.as_retriever(score_threshold = 0.7)\n",
        "retriever = vectordb.as_retriever()"
      ]
    },
    {
      "cell_type": "code",
      "execution_count": 9,
      "metadata": {
        "colab": {
          "base_uri": "https://localhost:8080/"
        },
        "id": "lNBs1RK3MPh1",
        "outputId": "169abe61-b888-4b04-bf4e-a527f75be678"
      },
      "outputs": [
        {
          "name": "stderr",
          "output_type": "stream",
          "text": [
            "C:\\Users\\HP\\AppData\\Local\\Temp\\ipykernel_11660\\2540997025.py:2: LangChainDeprecationWarning: The method `BaseRetriever.get_relevant_documents` was deprecated in langchain-core 0.1.46 and will be removed in 1.0. Use :meth:`~invoke` instead.\n",
            "  rdocs = retriever.get_relevant_documents(\"What should I do if I change my job\")\n"
          ]
        },
        {
          "data": {
            "text/plain": [
              "[Document(id='7cc36465-97d9-4841-a7c0-a8df7c2f798f', metadata={'source': 'What is to be done in case I change the job and join somewhere else', 'row': 33}, page_content='Question: What is to be done in case I change the job and join somewhere else\\nAnswer: You need to simply declare your UAN with your subsequent employer.'),\n",
              " Document(id='2056cfd9-edf7-4adc-8fbc-44b8a8f672c7', metadata={'source': 'I have changed my job. Should I activate my UAN again', 'row': 16}, page_content='Question: I have changed my job. Should I activate my UAN again\\nAnswer: UAN has to be activated only once. You do not have to re-activate it every time you switch jobs.'),\n",
              " Document(id='9ad77fa6-1701-4f2f-9867-1817950243a5', metadata={'source': 'My employer erroneously entered wrong PAN and Bank account details', 'row': 26}, page_content='Question: My employer erroneously entered wrong PAN and Bank account details\\nAnswer: You can login to your member portal and update the PAN and Bank account details yourself. The same will be digitally approved/updated by the employer'),\n",
              " Document(id='653da986-4d3e-40ed-aee8-d9ce5e50f6f6', metadata={'source': 'Two UAN allotted to me what should I do', 'row': 38}, page_content='Question: Two UAN allotted to me what should I do\\nAnswer: In case two UAN are allotted to you, this could be because of not filling of Date of Exit by your previous employer in ECR filing and / or you have applied for transfer of service in your current establishment. In such a case, it is suggested to immediately report the matter to your employer and through email to EPFO (uanepf@epfindia.gov.in) by mentioning, both -your current UAN and your previous UAN(s). After due verification, the previous UAN(s) allotted to you will be blocked and the current UAN will be kept active.')]"
            ]
          },
          "execution_count": 9,
          "metadata": {},
          "output_type": "execute_result"
        }
      ],
      "source": [
        "# Sample question and corresponding searched questions in the vector database\n",
        "rdocs = retriever.get_relevant_documents(\"What should I do if I change my job\")\n",
        "rdocs"
      ]
    },
    {
      "cell_type": "code",
      "execution_count": 10,
      "metadata": {
        "colab": {
          "base_uri": "https://localhost:8080/"
        },
        "id": "-ToU7ewYMCEs",
        "outputId": "2687a46e-ec0b-4da3-d726-e3a236f5d976"
      },
      "outputs": [
        {
          "data": {
            "text/plain": [
              "[Document(id='5c99d05b-728d-4c38-883f-966974b10e6b', metadata={'source': 'What to do if I forgot my password and my registered mobile with UAN has also changed', 'row': 32}, page_content='Question: What to do if I forgot my password and my registered mobile with UAN has also changed\\nAnswer: Please click on \\x93Forgot Password\\x94 at Member Interface of Unified Portal. Provide your UAN with CAPTCHA. System will ask whether OTP is to be sent on registered mobile or some other mobile. System will ask to enter your basic details (Name, DOB and Gender). After successful matching of basic details system will ask to provide your Aadhar or PAN. If KYC details are matched system will ask new mobile number and OTP will be sent to the new mobile. After successful verification of OTP, you can reset your password.'),\n",
              " Document(id='30796077-8b1d-4b4d-95b8-5c500af58a93', metadata={'source': 'How to change my UAN linked mobile number', 'row': 28}, page_content='Question: How to change my UAN linked mobile number\\nAnswer: After login into the Member Interface of Unified Portal, there is a provision in \\x93Member Profile\\x94 section to change your mobile number.'),\n",
              " Document(id='0d57ed5e-bab8-468b-9c34-b6d345f0205e', metadata={'source': 'What to do if I forgot my password', 'row': 31}, page_content='Question: What to do if I forgot my password\\nAnswer: Please click on \\x93Forgot Password\\x94 at Member Interface of Unified Portal. Provide your UAN with CAPTCHA. System will send the OTP on your mobile which is seeded with UAN and you can reset the password.'),\n",
              " Document(id='9ad77fa6-1701-4f2f-9867-1817950243a5', metadata={'source': 'My employer erroneously entered wrong PAN and Bank account details', 'row': 26}, page_content='Question: My employer erroneously entered wrong PAN and Bank account details\\nAnswer: You can login to your member portal and update the PAN and Bank account details yourself. The same will be digitally approved/updated by the employer')]"
            ]
          },
          "execution_count": 10,
          "metadata": {},
          "output_type": "execute_result"
        }
      ],
      "source": [
        "rdocs = retriever.get_relevant_documents(\"What is the procedure to change the password and can i link two mobile phones to a single account\")\n",
        "rdocs"
      ]
    },
    {
      "cell_type": "code",
      "execution_count": 11,
      "metadata": {
        "colab": {
          "base_uri": "https://localhost:8080/"
        },
        "id": "jEGalsdqmlUk",
        "outputId": "93e0cc5d-8ebc-417c-f898-4ce6f9f20a6c"
      },
      "outputs": [
        {
          "data": {
            "text/plain": [
              "[Document(id='483461e5-b868-4a30-851d-19a04f1db0dd', metadata={'source': 'What can I do if my UAN is not seeded with Aadhaar', 'row': 10}, page_content='Question: What can I do if my UAN is not seeded with Aadhaar\\nAnswer: Member can himself seed UAN with Aadhaar by visiting member portal. Thereafter the employer must approve the same to complete the linkage. Alternatively, member can ask his employer to link Aadhaar with UAN. The member can use \\x93e-KYC Portal\\x94 under Online Service available on home page of EPFO website or e-KYC service under EPFO in UMANG APP to link his/her UAN with Aadhaar without employer\\x92s intervention.'),\n",
              " Document(id='6e8a9261-02d6-4ed0-9a66-5a82d82b5732', metadata={'source': 'What are the minimum details which are required to be linked with UAN for availing online services', 'row': 21}, page_content='Question: What are the minimum details which are required to be linked with UAN for availing online services\\nAnswer: Mobile, Aadhar and Bank account number.'),\n",
              " Document(id='63539701-cd15-46e6-9200-009106a8fa97', metadata={'source': 'How can I seed my KYC details with UAN', 'row': 12}, page_content='Question: How can I seed my KYC details with UAN\\nAnswer: o Login to your EPF account at the unified member portal o Click on the \\x93KYC\\x94 option in the \\x93Manage\\x94 section o You can select the details (PAN, Bank Account, Aadhar etc) which you want to link with UAN o Fill in the requisite fields o Now click on the \\x93Save\\x94 option o Your request will be displayed in \\x93KYC Pending for Approval\\x94 o Once employer approves the details the message will be changed to \\x93Digitally approved by the employer\\x94 o Once UIDAI confirms your details, \\x93Verified by UIDAI\\x94 is displayed against your Aadhaar.'),\n",
              " Document(id='b73ee972-bc90-4345-bd1c-8e569ac17bb6', metadata={'source': 'My name is same in PAN card and Aadhaar card but I am not able to link it with my UAN', 'row': 23}, page_content='Question: My name is same in PAN card and Aadhaar card but I am not able to link it with my UAN\\nAnswer: The name as per Aadhaar and PAN must be same as that in PF records for KYC to be successfully completed. Please note that the name as printed on PAN card may be different from that in the Income Tax database. In such a case you must enter the name as per IT database to get it successfully linked with UAN. If there is a name mismatch then a name change request can be raised.')]"
            ]
          },
          "execution_count": 11,
          "metadata": {},
          "output_type": "execute_result"
        }
      ],
      "source": [
        "rdocs = retriever.get_relevant_documents(\"How to link an AADHAR with UAN\")\n",
        "rdocs"
      ]
    },
    {
      "cell_type": "markdown",
      "metadata": {
        "id": "PFC-YotDOZ27"
      },
      "source": [
        "## Create RetrievalQA chain along with prompt template"
      ]
    },
    {
      "cell_type": "code",
      "execution_count": 12,
      "metadata": {},
      "outputs": [],
      "source": [
        "from langchain.prompts import PromptTemplate\n",
        "from langchain.chains import RetrievalQA\n",
        "from langchain_google_genai import ChatGoogleGenerativeAI"
      ]
    },
    {
      "cell_type": "code",
      "execution_count": 13,
      "metadata": {},
      "outputs": [],
      "source": [
        "llm = ChatGoogleGenerativeAI(\n",
        "    model=\"gemini-2.0-flash-001\",\n",
        "    temperature=0.3,\n",
        "    max_retries=2\n",
        ")"
      ]
    },
    {
      "cell_type": "code",
      "execution_count": 19,
      "metadata": {
        "id": "gQNaT8O3OV3b"
      },
      "outputs": [],
      "source": [
        "prompt_template = \"\"\"Given the following context and a question, generate an answer based on this context only.\n",
        "In the answer try to provide as much text as possible from \"Answer\" section in the source document context without making much changes.\n",
        "If the answer is not found in the context, kindly state \"I don't know.\" Don't try to make up an answer.\n",
        "\n",
        "CONTEXT: {context}\n",
        "\n",
        "QUESTION: {question}\"\"\"\n",
        "\n",
        "\n",
        "PROMPT = PromptTemplate(\n",
        "    template=prompt_template, input_variables=[\"context\", \"question\"]\n",
        ")\n",
        "chain_type_kwargs = {\"prompt\": PROMPT}\n",
        "\n",
        "\n",
        "chain = RetrievalQA.from_chain_type(llm=llm,\n",
        "                            chain_type=\"stuff\",\n",
        "                            retriever=retriever,\n",
        "                            input_key=\"query\",\n",
        "                            return_source_documents=True,\n",
        "                            chain_type_kwargs=chain_type_kwargs)"
      ]
    },
    {
      "cell_type": "code",
      "execution_count": 20,
      "metadata": {
        "colab": {
          "base_uri": "https://localhost:8080/"
        },
        "id": "QE3j58EwO3og",
        "outputId": "d27e9ef2-7c88-4bc6-bdce-55bb91a4aece"
      },
      "outputs": [
        {
          "data": {
            "text/plain": [
              "{'query': 'What should I do if I change my job',\n",
              " 'result': 'UAN has to be activated only once. You do not have to re-activate it every time you switch jobs.\\nYou need to simply declare your UAN with your subsequent employer.',\n",
              " 'source_documents': [Document(id='7cc36465-97d9-4841-a7c0-a8df7c2f798f', metadata={'source': 'What is to be done in case I change the job and join somewhere else', 'row': 33}, page_content='Question: What is to be done in case I change the job and join somewhere else\\nAnswer: You need to simply declare your UAN with your subsequent employer.'),\n",
              "  Document(id='2056cfd9-edf7-4adc-8fbc-44b8a8f672c7', metadata={'source': 'I have changed my job. Should I activate my UAN again', 'row': 16}, page_content='Question: I have changed my job. Should I activate my UAN again\\nAnswer: UAN has to be activated only once. You do not have to re-activate it every time you switch jobs.'),\n",
              "  Document(id='9ad77fa6-1701-4f2f-9867-1817950243a5', metadata={'source': 'My employer erroneously entered wrong PAN and Bank account details', 'row': 26}, page_content='Question: My employer erroneously entered wrong PAN and Bank account details\\nAnswer: You can login to your member portal and update the PAN and Bank account details yourself. The same will be digitally approved/updated by the employer'),\n",
              "  Document(id='653da986-4d3e-40ed-aee8-d9ce5e50f6f6', metadata={'source': 'Two UAN allotted to me what should I do', 'row': 38}, page_content='Question: Two UAN allotted to me what should I do\\nAnswer: In case two UAN are allotted to you, this could be because of not filling of Date of Exit by your previous employer in ECR filing and / or you have applied for transfer of service in your current establishment. In such a case, it is suggested to immediately report the matter to your employer and through email to EPFO (uanepf@epfindia.gov.in) by mentioning, both -your current UAN and your previous UAN(s). After due verification, the previous UAN(s) allotted to you will be blocked and the current UAN will be kept active.')]}"
            ]
          },
          "execution_count": 20,
          "metadata": {},
          "output_type": "execute_result"
        }
      ],
      "source": [
        "chain(\"What should I do if I change my job\")"
      ]
    },
    {
      "cell_type": "code",
      "execution_count": 16,
      "metadata": {
        "colab": {
          "base_uri": "https://localhost:8080/"
        },
        "id": "cgSQt6NRPN60",
        "outputId": "483dbb97-76a6-4b91-e6ba-7f20cf04d08d"
      },
      "outputs": [
        {
          "data": {
            "text/plain": [
              "{'query': 'What is the procedure to change the password',\n",
              " 'result': 'Please click on \\x93Forgot Password\\x94 at Member Interface of Unified Portal. Provide your UAN with CAPTCHA. System will send the OTP on your mobile which is seeded with UAN and you can reset the password.',\n",
              " 'source_documents': [Document(id='0d57ed5e-bab8-468b-9c34-b6d345f0205e', metadata={'source': 'What to do if I forgot my password', 'row': 31}, page_content='Question: What to do if I forgot my password\\nAnswer: Please click on \\x93Forgot Password\\x94 at Member Interface of Unified Portal. Provide your UAN with CAPTCHA. System will send the OTP on your mobile which is seeded with UAN and you can reset the password.'),\n",
              "  Document(id='5c99d05b-728d-4c38-883f-966974b10e6b', metadata={'source': 'What to do if I forgot my password and my registered mobile with UAN has also changed', 'row': 32}, page_content='Question: What to do if I forgot my password and my registered mobile with UAN has also changed\\nAnswer: Please click on \\x93Forgot Password\\x94 at Member Interface of Unified Portal. Provide your UAN with CAPTCHA. System will ask whether OTP is to be sent on registered mobile or some other mobile. System will ask to enter your basic details (Name, DOB and Gender). After successful matching of basic details system will ask to provide your Aadhar or PAN. If KYC details are matched system will ask new mobile number and OTP will be sent to the new mobile. After successful verification of OTP, you can reset your password.'),\n",
              "  Document(id='9ad77fa6-1701-4f2f-9867-1817950243a5', metadata={'source': 'My employer erroneously entered wrong PAN and Bank account details', 'row': 26}, page_content='Question: My employer erroneously entered wrong PAN and Bank account details\\nAnswer: You can login to your member portal and update the PAN and Bank account details yourself. The same will be digitally approved/updated by the employer'),\n",
              "  Document(id='30796077-8b1d-4b4d-95b8-5c500af58a93', metadata={'source': 'How to change my UAN linked mobile number', 'row': 28}, page_content='Question: How to change my UAN linked mobile number\\nAnswer: After login into the Member Interface of Unified Portal, there is a provision in \\x93Member Profile\\x94 section to change your mobile number.')]}"
            ]
          },
          "execution_count": 16,
          "metadata": {},
          "output_type": "execute_result"
        }
      ],
      "source": [
        "chain(\"What is the procedure to change the password\")"
      ]
    },
    {
      "cell_type": "code",
      "execution_count": 17,
      "metadata": {
        "colab": {
          "base_uri": "https://localhost:8080/"
        },
        "id": "OMMhxuzam8iW",
        "outputId": "7b56ee3c-2d76-4073-c658-072e1ba657d9"
      },
      "outputs": [
        {
          "data": {
            "text/plain": [
              "{'query': 'How to link an AADHAR with UAN',\n",
              " 'result': 'Member can himself seed UAN with Aadhaar by visiting member portal. Thereafter the employer must approve the same to complete the linkage. Alternatively, member can ask his employer to link Aadhaar with UAN. The member can use \\x93e-KYC Portal\\x94 under Online Service available on home page of EPFO website or e-KYC service under EPFO in UMANG APP to link his/her UAN with Aadhaar without employer\\x92s intervention.',\n",
              " 'source_documents': [Document(id='483461e5-b868-4a30-851d-19a04f1db0dd', metadata={'source': 'What can I do if my UAN is not seeded with Aadhaar', 'row': 10}, page_content='Question: What can I do if my UAN is not seeded with Aadhaar\\nAnswer: Member can himself seed UAN with Aadhaar by visiting member portal. Thereafter the employer must approve the same to complete the linkage. Alternatively, member can ask his employer to link Aadhaar with UAN. The member can use \\x93e-KYC Portal\\x94 under Online Service available on home page of EPFO website or e-KYC service under EPFO in UMANG APP to link his/her UAN with Aadhaar without employer\\x92s intervention.'),\n",
              "  Document(id='6e8a9261-02d6-4ed0-9a66-5a82d82b5732', metadata={'source': 'What are the minimum details which are required to be linked with UAN for availing online services', 'row': 21}, page_content='Question: What are the minimum details which are required to be linked with UAN for availing online services\\nAnswer: Mobile, Aadhar and Bank account number.'),\n",
              "  Document(id='63539701-cd15-46e6-9200-009106a8fa97', metadata={'source': 'How can I seed my KYC details with UAN', 'row': 12}, page_content='Question: How can I seed my KYC details with UAN\\nAnswer: o Login to your EPF account at the unified member portal o Click on the \\x93KYC\\x94 option in the \\x93Manage\\x94 section o You can select the details (PAN, Bank Account, Aadhar etc) which you want to link with UAN o Fill in the requisite fields o Now click on the \\x93Save\\x94 option o Your request will be displayed in \\x93KYC Pending for Approval\\x94 o Once employer approves the details the message will be changed to \\x93Digitally approved by the employer\\x94 o Once UIDAI confirms your details, \\x93Verified by UIDAI\\x94 is displayed against your Aadhaar.'),\n",
              "  Document(id='b73ee972-bc90-4345-bd1c-8e569ac17bb6', metadata={'source': 'My name is same in PAN card and Aadhaar card but I am not able to link it with my UAN', 'row': 23}, page_content='Question: My name is same in PAN card and Aadhaar card but I am not able to link it with my UAN\\nAnswer: The name as per Aadhaar and PAN must be same as that in PF records for KYC to be successfully completed. Please note that the name as printed on PAN card may be different from that in the Income Tax database. In such a case you must enter the name as per IT database to get it successfully linked with UAN. If there is a name mismatch then a name change request can be raised.')]}"
            ]
          },
          "execution_count": 17,
          "metadata": {},
          "output_type": "execute_result"
        }
      ],
      "source": [
        "chain(\"How to link an AADHAR with UAN\")"
      ]
    },
    {
      "cell_type": "code",
      "execution_count": 21,
      "metadata": {
        "colab": {
          "base_uri": "https://localhost:8080/"
        },
        "id": "awM0gqNmnnU3",
        "outputId": "e98c278b-92f9-46f4-be43-a3641165029b"
      },
      "outputs": [
        {
          "data": {
            "text/plain": [
              "{'query': 'What if I purchase a mobile phone, do I need to create an account',\n",
              " 'result': \"I don't know.\",\n",
              " 'source_documents': [Document(id='c2fc07d2-5e0a-470e-8839-16679d8a9fe2', metadata={'source': 'Can I apply online claim if my mobile is not linked with Aadhaar', 'row': 29}, page_content='Question: Can I apply online claim if my mobile is not linked with Aadhaar\\nAnswer: No, you cannot submit online claim if your mobile is not linked with Aadhaar. At the time of claim submission, OTP is sent to Aadhaar linked mobile only.'),\n",
              "  Document(id='6e8a9261-02d6-4ed0-9a66-5a82d82b5732', metadata={'source': 'What are the minimum details which are required to be linked with UAN for availing online services', 'row': 21}, page_content='Question: What are the minimum details which are required to be linked with UAN for availing online services\\nAnswer: Mobile, Aadhar and Bank account number.'),\n",
              "  Document(id='055f5d83-c9f0-4370-98dc-521ce29bacb6', metadata={'source': 'Can one mobile number be linked with multiple UANs', 'row': 6}, page_content='Question: Can one mobile number be linked with multiple UANs\\nAnswer: One mobile number can be used for registration with one UAN only.'),\n",
              "  Document(id='11d220fa-16c1-4bff-b412-6585c3eedd7c', metadata={'source': 'Do I have to pay any fee for UAN registration', 'row': 17}, page_content='Question: Do I have to pay any fee for UAN registration\\nAnswer: No, UAN registration is free of cost and you do not have to pay any fee to activate it.')]}"
            ]
          },
          "execution_count": 21,
          "metadata": {},
          "output_type": "execute_result"
        }
      ],
      "source": [
        "chain(\"What if I purchase a mobile phone, do I need to create an account\")"
      ]
    },
    {
      "cell_type": "markdown",
      "metadata": {
        "id": "wX28fClmOUNj"
      },
      "source": [
        "## Observations:\n",
        "1. For an asked questions, similar questions were able to find from vector database.\n",
        "2. Multiple similar questions found for an asked questions. Multiple answers from these quesions were summarised nicely by llm.\n",
        "3. For a question which is not related to the base question and answer document, retrieval chain provides answer I don't know.\n"
      ]
    }
  ],
  "metadata": {
    "colab": {
      "provenance": []
    },
    "kernelspec": {
      "display_name": ".venv",
      "language": "python",
      "name": "python3"
    },
    "language_info": {
      "codemirror_mode": {
        "name": "ipython",
        "version": 3
      },
      "file_extension": ".py",
      "mimetype": "text/x-python",
      "name": "python",
      "nbconvert_exporter": "python",
      "pygments_lexer": "ipython3",
      "version": "3.10.0"
    }
  },
  "nbformat": 4,
  "nbformat_minor": 0
}
