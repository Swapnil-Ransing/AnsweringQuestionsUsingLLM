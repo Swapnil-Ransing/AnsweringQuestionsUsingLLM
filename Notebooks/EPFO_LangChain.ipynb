{
  "nbformat": 4,
  "nbformat_minor": 0,
  "metadata": {
    "colab": {
      "provenance": []
    },
    "kernelspec": {
      "name": "python3",
      "display_name": "Python 3"
    },
    "language_info": {
      "name": "python"
    }
  },
  "cells": [
    {
      "cell_type": "markdown",
      "source": [
        "# POC - EPFO Question and Answer System\n",
        "## Account (UAN) (creation, documents required, claims), KYC (procedure, update)\n",
        "This is an end to end LLM project based on Google Palm and Langchain. In this project a question and answer system related to EPFO (Employee's Provident Fund Organization) is developed. EPFO is one of the World's largest Social Security Organisations in terms of clientele and the volume of financial transactions undertaken. In the developed project questions related to account (UAN) (creation, documents required, claims), KYC (procedure, update) etc. are tried to answered using google palm large language model."
      ],
      "metadata": {
        "id": "DAbr_Vi6fGf2"
      }
    },
    {
      "cell_type": "markdown",
      "source": [
        "## Project Architecture:\n",
        "1. **CSV loading :** CSV loader from langchain document loader will load the csv question and answer file.\n",
        "2. **Database questions embedding :** Questions from CSV question and answer file will be embedded using <u>huggingface embeding</u>.\n",
        "3. **Vector Database :** Embedded questions and corresponding answers will be stored using <u>FAISS</u>.\n",
        "4. **Creating a retrieval chain :** Using a <u>prompt template</u>  and <u>google palm api</u> retrieval chain will be prepared.\n",
        "\n",
        "## Output:\n",
        "Output will be an answer based on the input question. Following will happen in the background.\n",
        "1. A question asked to the retrieval chain will try to find the similar questions from the vector database.\n",
        "2. Corresponding answers from the vector database of the relevant questions from step 1 will be outputted nicely using google palm llm."
      ],
      "metadata": {
        "id": "_vIpZj6dhzuA"
      }
    },
    {
      "cell_type": "markdown",
      "source": [
        "## Installing the required packages, modules and libraries"
      ],
      "metadata": {
        "id": "y6Bs3q5Ygyu1"
      }
    },
    {
      "cell_type": "code",
      "source": [
        "# Mounting google drive\n",
        "from google.colab import drive\n",
        "drive.mount('/content/drive', force_remount=True)"
      ],
      "metadata": {
        "colab": {
          "base_uri": "https://localhost:8080/"
        },
        "id": "8-zq0Zk56Kxr",
        "outputId": "c071f04e-8658-4e6b-c678-db9009fdfdfd"
      },
      "execution_count": null,
      "outputs": [
        {
          "output_type": "stream",
          "name": "stdout",
          "text": [
            "Mounted at /content/drive\n"
          ]
        }
      ]
    },
    {
      "cell_type": "code",
      "source": [
        "# Installing all the required modules from requirements.txt\n",
        "# langchain==0.0.284\n",
        "# python-dotenv==1.0.0\n",
        "# streamlit==1.22.0\n",
        "# tiktoken==0.4.0\n",
        "# faiss-cpu==1.7.4\n",
        "# protobuf~=3.19.0\n",
        "\n",
        "from google.colab import files\n",
        "\n",
        "uploaded = files.upload()\n",
        "\n",
        "for fn in uploaded.keys():\n",
        "  print('User uploaded file \"{name}\" with length {length} bytes'.format(\n",
        "      name=fn, length=len(uploaded[fn])))\n",
        "\n",
        "!pip install -r requirements.txt"
      ],
      "metadata": {
        "colab": {
          "base_uri": "https://localhost:8080/",
          "height": 1000
        },
        "id": "lXM2rvcX6jmd",
        "outputId": "92fe5d59-ca6e-47a8-a337-af719bde4d02"
      },
      "execution_count": null,
      "outputs": [
        {
          "output_type": "display_data",
          "data": {
            "text/plain": [
              "<IPython.core.display.HTML object>"
            ],
            "text/html": [
              "\n",
              "     <input type=\"file\" id=\"files-c99ad322-509b-4e45-b737-e1ccb357b4dc\" name=\"files[]\" multiple disabled\n",
              "        style=\"border:none\" />\n",
              "     <output id=\"result-c99ad322-509b-4e45-b737-e1ccb357b4dc\">\n",
              "      Upload widget is only available when the cell has been executed in the\n",
              "      current browser session. Please rerun this cell to enable.\n",
              "      </output>\n",
              "      <script>// Copyright 2017 Google LLC\n",
              "//\n",
              "// Licensed under the Apache License, Version 2.0 (the \"License\");\n",
              "// you may not use this file except in compliance with the License.\n",
              "// You may obtain a copy of the License at\n",
              "//\n",
              "//      http://www.apache.org/licenses/LICENSE-2.0\n",
              "//\n",
              "// Unless required by applicable law or agreed to in writing, software\n",
              "// distributed under the License is distributed on an \"AS IS\" BASIS,\n",
              "// WITHOUT WARRANTIES OR CONDITIONS OF ANY KIND, either express or implied.\n",
              "// See the License for the specific language governing permissions and\n",
              "// limitations under the License.\n",
              "\n",
              "/**\n",
              " * @fileoverview Helpers for google.colab Python module.\n",
              " */\n",
              "(function(scope) {\n",
              "function span(text, styleAttributes = {}) {\n",
              "  const element = document.createElement('span');\n",
              "  element.textContent = text;\n",
              "  for (const key of Object.keys(styleAttributes)) {\n",
              "    element.style[key] = styleAttributes[key];\n",
              "  }\n",
              "  return element;\n",
              "}\n",
              "\n",
              "// Max number of bytes which will be uploaded at a time.\n",
              "const MAX_PAYLOAD_SIZE = 100 * 1024;\n",
              "\n",
              "function _uploadFiles(inputId, outputId) {\n",
              "  const steps = uploadFilesStep(inputId, outputId);\n",
              "  const outputElement = document.getElementById(outputId);\n",
              "  // Cache steps on the outputElement to make it available for the next call\n",
              "  // to uploadFilesContinue from Python.\n",
              "  outputElement.steps = steps;\n",
              "\n",
              "  return _uploadFilesContinue(outputId);\n",
              "}\n",
              "\n",
              "// This is roughly an async generator (not supported in the browser yet),\n",
              "// where there are multiple asynchronous steps and the Python side is going\n",
              "// to poll for completion of each step.\n",
              "// This uses a Promise to block the python side on completion of each step,\n",
              "// then passes the result of the previous step as the input to the next step.\n",
              "function _uploadFilesContinue(outputId) {\n",
              "  const outputElement = document.getElementById(outputId);\n",
              "  const steps = outputElement.steps;\n",
              "\n",
              "  const next = steps.next(outputElement.lastPromiseValue);\n",
              "  return Promise.resolve(next.value.promise).then((value) => {\n",
              "    // Cache the last promise value to make it available to the next\n",
              "    // step of the generator.\n",
              "    outputElement.lastPromiseValue = value;\n",
              "    return next.value.response;\n",
              "  });\n",
              "}\n",
              "\n",
              "/**\n",
              " * Generator function which is called between each async step of the upload\n",
              " * process.\n",
              " * @param {string} inputId Element ID of the input file picker element.\n",
              " * @param {string} outputId Element ID of the output display.\n",
              " * @return {!Iterable<!Object>} Iterable of next steps.\n",
              " */\n",
              "function* uploadFilesStep(inputId, outputId) {\n",
              "  const inputElement = document.getElementById(inputId);\n",
              "  inputElement.disabled = false;\n",
              "\n",
              "  const outputElement = document.getElementById(outputId);\n",
              "  outputElement.innerHTML = '';\n",
              "\n",
              "  const pickedPromise = new Promise((resolve) => {\n",
              "    inputElement.addEventListener('change', (e) => {\n",
              "      resolve(e.target.files);\n",
              "    });\n",
              "  });\n",
              "\n",
              "  const cancel = document.createElement('button');\n",
              "  inputElement.parentElement.appendChild(cancel);\n",
              "  cancel.textContent = 'Cancel upload';\n",
              "  const cancelPromise = new Promise((resolve) => {\n",
              "    cancel.onclick = () => {\n",
              "      resolve(null);\n",
              "    };\n",
              "  });\n",
              "\n",
              "  // Wait for the user to pick the files.\n",
              "  const files = yield {\n",
              "    promise: Promise.race([pickedPromise, cancelPromise]),\n",
              "    response: {\n",
              "      action: 'starting',\n",
              "    }\n",
              "  };\n",
              "\n",
              "  cancel.remove();\n",
              "\n",
              "  // Disable the input element since further picks are not allowed.\n",
              "  inputElement.disabled = true;\n",
              "\n",
              "  if (!files) {\n",
              "    return {\n",
              "      response: {\n",
              "        action: 'complete',\n",
              "      }\n",
              "    };\n",
              "  }\n",
              "\n",
              "  for (const file of files) {\n",
              "    const li = document.createElement('li');\n",
              "    li.append(span(file.name, {fontWeight: 'bold'}));\n",
              "    li.append(span(\n",
              "        `(${file.type || 'n/a'}) - ${file.size} bytes, ` +\n",
              "        `last modified: ${\n",
              "            file.lastModifiedDate ? file.lastModifiedDate.toLocaleDateString() :\n",
              "                                    'n/a'} - `));\n",
              "    const percent = span('0% done');\n",
              "    li.appendChild(percent);\n",
              "\n",
              "    outputElement.appendChild(li);\n",
              "\n",
              "    const fileDataPromise = new Promise((resolve) => {\n",
              "      const reader = new FileReader();\n",
              "      reader.onload = (e) => {\n",
              "        resolve(e.target.result);\n",
              "      };\n",
              "      reader.readAsArrayBuffer(file);\n",
              "    });\n",
              "    // Wait for the data to be ready.\n",
              "    let fileData = yield {\n",
              "      promise: fileDataPromise,\n",
              "      response: {\n",
              "        action: 'continue',\n",
              "      }\n",
              "    };\n",
              "\n",
              "    // Use a chunked sending to avoid message size limits. See b/62115660.\n",
              "    let position = 0;\n",
              "    do {\n",
              "      const length = Math.min(fileData.byteLength - position, MAX_PAYLOAD_SIZE);\n",
              "      const chunk = new Uint8Array(fileData, position, length);\n",
              "      position += length;\n",
              "\n",
              "      const base64 = btoa(String.fromCharCode.apply(null, chunk));\n",
              "      yield {\n",
              "        response: {\n",
              "          action: 'append',\n",
              "          file: file.name,\n",
              "          data: base64,\n",
              "        },\n",
              "      };\n",
              "\n",
              "      let percentDone = fileData.byteLength === 0 ?\n",
              "          100 :\n",
              "          Math.round((position / fileData.byteLength) * 100);\n",
              "      percent.textContent = `${percentDone}% done`;\n",
              "\n",
              "    } while (position < fileData.byteLength);\n",
              "  }\n",
              "\n",
              "  // All done.\n",
              "  yield {\n",
              "    response: {\n",
              "      action: 'complete',\n",
              "    }\n",
              "  };\n",
              "}\n",
              "\n",
              "scope.google = scope.google || {};\n",
              "scope.google.colab = scope.google.colab || {};\n",
              "scope.google.colab._files = {\n",
              "  _uploadFiles,\n",
              "  _uploadFilesContinue,\n",
              "};\n",
              "})(self);\n",
              "</script> "
            ]
          },
          "metadata": {}
        },
        {
          "output_type": "stream",
          "name": "stdout",
          "text": [
            "Saving requirements.txt to requirements.txt\n",
            "User uploaded file \"requirements.txt\" with length 107 bytes\n",
            "Collecting langchain==0.0.284 (from -r requirements.txt (line 1))\n",
            "  Downloading langchain-0.0.284-py3-none-any.whl (1.7 MB)\n",
            "\u001b[2K     \u001b[90m━━━━━━━━━━━━━━━━━━━━━━━━━━━━━━━━━━━━━━━━\u001b[0m \u001b[32m1.7/1.7 MB\u001b[0m \u001b[31m18.2 MB/s\u001b[0m eta \u001b[36m0:00:00\u001b[0m\n",
            "\u001b[?25hCollecting python-dotenv==1.0.0 (from -r requirements.txt (line 2))\n",
            "  Downloading python_dotenv-1.0.0-py3-none-any.whl (19 kB)\n",
            "Collecting streamlit==1.22.0 (from -r requirements.txt (line 3))\n",
            "  Downloading streamlit-1.22.0-py2.py3-none-any.whl (8.9 MB)\n",
            "\u001b[2K     \u001b[90m━━━━━━━━━━━━━━━━━━━━━━━━━━━━━━━━━━━━━━━━\u001b[0m \u001b[32m8.9/8.9 MB\u001b[0m \u001b[31m31.4 MB/s\u001b[0m eta \u001b[36m0:00:00\u001b[0m\n",
            "\u001b[?25hCollecting tiktoken==0.4.0 (from -r requirements.txt (line 4))\n",
            "  Downloading tiktoken-0.4.0-cp310-cp310-manylinux_2_17_x86_64.manylinux2014_x86_64.whl (1.7 MB)\n",
            "\u001b[2K     \u001b[90m━━━━━━━━━━━━━━━━━━━━━━━━━━━━━━━━━━━━━━━━\u001b[0m \u001b[32m1.7/1.7 MB\u001b[0m \u001b[31m61.8 MB/s\u001b[0m eta \u001b[36m0:00:00\u001b[0m\n",
            "\u001b[?25hCollecting faiss-cpu==1.7.4 (from -r requirements.txt (line 5))\n",
            "  Downloading faiss_cpu-1.7.4-cp310-cp310-manylinux_2_17_x86_64.manylinux2014_x86_64.whl (17.6 MB)\n",
            "\u001b[2K     \u001b[90m━━━━━━━━━━━━━━━━━━━━━━━━━━━━━━━━━━━━━━━━\u001b[0m \u001b[32m17.6/17.6 MB\u001b[0m \u001b[31m66.9 MB/s\u001b[0m eta \u001b[36m0:00:00\u001b[0m\n",
            "\u001b[?25hCollecting protobuf~=3.19.0 (from -r requirements.txt (line 6))\n",
            "  Downloading protobuf-3.19.6-cp310-cp310-manylinux_2_17_x86_64.manylinux2014_x86_64.whl (1.1 MB)\n",
            "\u001b[2K     \u001b[90m━━━━━━━━━━━━━━━━━━━━━━━━━━━━━━━━━━━━━━━━\u001b[0m \u001b[32m1.1/1.1 MB\u001b[0m \u001b[31m51.8 MB/s\u001b[0m eta \u001b[36m0:00:00\u001b[0m\n",
            "\u001b[?25hRequirement already satisfied: PyYAML>=5.3 in /usr/local/lib/python3.10/dist-packages (from langchain==0.0.284->-r requirements.txt (line 1)) (6.0.1)\n",
            "Requirement already satisfied: SQLAlchemy<3,>=1.4 in /usr/local/lib/python3.10/dist-packages (from langchain==0.0.284->-r requirements.txt (line 1)) (2.0.23)\n",
            "Requirement already satisfied: aiohttp<4.0.0,>=3.8.3 in /usr/local/lib/python3.10/dist-packages (from langchain==0.0.284->-r requirements.txt (line 1)) (3.9.1)\n",
            "Requirement already satisfied: async-timeout<5.0.0,>=4.0.0 in /usr/local/lib/python3.10/dist-packages (from langchain==0.0.284->-r requirements.txt (line 1)) (4.0.3)\n",
            "\u001b[33mWARNING: Retrying (Retry(total=4, connect=None, read=None, redirect=None, status=None)) after connection broken by 'ProtocolError('Connection aborted.', RemoteDisconnected('Remote end closed connection without response'))': /simple/dataclasses-json/\u001b[0m\u001b[33m\n",
            "\u001b[0mCollecting dataclasses-json<0.6.0,>=0.5.7 (from langchain==0.0.284->-r requirements.txt (line 1))\n",
            "  Downloading dataclasses_json-0.5.14-py3-none-any.whl (26 kB)\n",
            "Collecting langsmith<0.1.0,>=0.0.21 (from langchain==0.0.284->-r requirements.txt (line 1))\n",
            "  Downloading langsmith-0.0.67-py3-none-any.whl (47 kB)\n",
            "\u001b[2K     \u001b[90m━━━━━━━━━━━━━━━━━━━━━━━━━━━━━━━━━━━━━━━━\u001b[0m \u001b[32m47.0/47.0 kB\u001b[0m \u001b[31m3.2 MB/s\u001b[0m eta \u001b[36m0:00:00\u001b[0m\n",
            "\u001b[?25hRequirement already satisfied: numexpr<3.0.0,>=2.8.4 in /usr/local/lib/python3.10/dist-packages (from langchain==0.0.284->-r requirements.txt (line 1)) (2.8.7)\n",
            "Requirement already satisfied: numpy<2,>=1 in /usr/local/lib/python3.10/dist-packages (from langchain==0.0.284->-r requirements.txt (line 1)) (1.23.5)\n",
            "Requirement already satisfied: pydantic<3,>=1 in /usr/local/lib/python3.10/dist-packages (from langchain==0.0.284->-r requirements.txt (line 1)) (1.10.13)\n",
            "Requirement already satisfied: requests<3,>=2 in /usr/local/lib/python3.10/dist-packages (from langchain==0.0.284->-r requirements.txt (line 1)) (2.31.0)\n",
            "Requirement already satisfied: tenacity<9.0.0,>=8.1.0 in /usr/local/lib/python3.10/dist-packages (from langchain==0.0.284->-r requirements.txt (line 1)) (8.2.3)\n",
            "Requirement already satisfied: altair<5,>=3.2.0 in /usr/local/lib/python3.10/dist-packages (from streamlit==1.22.0->-r requirements.txt (line 3)) (4.2.2)\n",
            "Requirement already satisfied: blinker>=1.0.0 in /usr/lib/python3/dist-packages (from streamlit==1.22.0->-r requirements.txt (line 3)) (1.4)\n",
            "Requirement already satisfied: cachetools>=4.0 in /usr/local/lib/python3.10/dist-packages (from streamlit==1.22.0->-r requirements.txt (line 3)) (5.3.2)\n",
            "Requirement already satisfied: click>=7.0 in /usr/local/lib/python3.10/dist-packages (from streamlit==1.22.0->-r requirements.txt (line 3)) (8.1.7)\n",
            "Requirement already satisfied: importlib-metadata>=1.4 in /usr/local/lib/python3.10/dist-packages (from streamlit==1.22.0->-r requirements.txt (line 3)) (6.8.0)\n",
            "Requirement already satisfied: packaging>=14.1 in /usr/local/lib/python3.10/dist-packages (from streamlit==1.22.0->-r requirements.txt (line 3)) (23.2)\n",
            "Requirement already satisfied: pandas<3,>=0.25 in /usr/local/lib/python3.10/dist-packages (from streamlit==1.22.0->-r requirements.txt (line 3)) (1.5.3)\n",
            "Requirement already satisfied: pillow>=6.2.0 in /usr/local/lib/python3.10/dist-packages (from streamlit==1.22.0->-r requirements.txt (line 3)) (9.4.0)\n",
            "Requirement already satisfied: pyarrow>=4.0 in /usr/local/lib/python3.10/dist-packages (from streamlit==1.22.0->-r requirements.txt (line 3)) (9.0.0)\n",
            "Collecting pympler>=0.9 (from streamlit==1.22.0->-r requirements.txt (line 3))\n",
            "  Downloading Pympler-1.0.1-py3-none-any.whl (164 kB)\n",
            "\u001b[2K     \u001b[90m━━━━━━━━━━━━━━━━━━━━━━━━━━━━━━━━━━━━━━━━\u001b[0m \u001b[32m164.8/164.8 kB\u001b[0m \u001b[31m17.4 MB/s\u001b[0m eta \u001b[36m0:00:00\u001b[0m\n",
            "\u001b[?25hRequirement already satisfied: python-dateutil in /usr/local/lib/python3.10/dist-packages (from streamlit==1.22.0->-r requirements.txt (line 3)) (2.8.2)\n",
            "Requirement already satisfied: rich>=10.11.0 in /usr/local/lib/python3.10/dist-packages (from streamlit==1.22.0->-r requirements.txt (line 3)) (13.7.0)\n",
            "Requirement already satisfied: toml in /usr/local/lib/python3.10/dist-packages (from streamlit==1.22.0->-r requirements.txt (line 3)) (0.10.2)\n",
            "Requirement already satisfied: typing-extensions>=3.10.0.0 in /usr/local/lib/python3.10/dist-packages (from streamlit==1.22.0->-r requirements.txt (line 3)) (4.5.0)\n",
            "Requirement already satisfied: tzlocal>=1.1 in /usr/local/lib/python3.10/dist-packages (from streamlit==1.22.0->-r requirements.txt (line 3)) (5.2)\n",
            "Collecting validators>=0.2 (from streamlit==1.22.0->-r requirements.txt (line 3))\n",
            "  Downloading validators-0.22.0-py3-none-any.whl (26 kB)\n",
            "Collecting gitpython!=3.1.19 (from streamlit==1.22.0->-r requirements.txt (line 3))\n",
            "  Downloading GitPython-3.1.40-py3-none-any.whl (190 kB)\n",
            "\u001b[2K     \u001b[90m━━━━━━━━━━━━━━━━━━━━━━━━━━━━━━━━━━━━━━━━\u001b[0m \u001b[32m190.6/190.6 kB\u001b[0m \u001b[31m20.3 MB/s\u001b[0m eta \u001b[36m0:00:00\u001b[0m\n",
            "\u001b[?25hCollecting pydeck>=0.1.dev5 (from streamlit==1.22.0->-r requirements.txt (line 3))\n",
            "  Downloading pydeck-0.8.1b0-py2.py3-none-any.whl (4.8 MB)\n",
            "\u001b[2K     \u001b[90m━━━━━━━━━━━━━━━━━━━━━━━━━━━━━━━━━━━━━━━━\u001b[0m \u001b[32m4.8/4.8 MB\u001b[0m \u001b[31m65.0 MB/s\u001b[0m eta \u001b[36m0:00:00\u001b[0m\n",
            "\u001b[?25hRequirement already satisfied: tornado>=6.0.3 in /usr/local/lib/python3.10/dist-packages (from streamlit==1.22.0->-r requirements.txt (line 3)) (6.3.2)\n",
            "Collecting watchdog (from streamlit==1.22.0->-r requirements.txt (line 3))\n",
            "  Downloading watchdog-3.0.0-py3-none-manylinux2014_x86_64.whl (82 kB)\n",
            "\u001b[2K     \u001b[90m━━━━━━━━━━━━━━━━━━━━━━━━━━━━━━━━━━━━━━━━\u001b[0m \u001b[32m82.1/82.1 kB\u001b[0m \u001b[31m9.2 MB/s\u001b[0m eta \u001b[36m0:00:00\u001b[0m\n",
            "\u001b[?25hRequirement already satisfied: regex>=2022.1.18 in /usr/local/lib/python3.10/dist-packages (from tiktoken==0.4.0->-r requirements.txt (line 4)) (2023.6.3)\n",
            "Requirement already satisfied: attrs>=17.3.0 in /usr/local/lib/python3.10/dist-packages (from aiohttp<4.0.0,>=3.8.3->langchain==0.0.284->-r requirements.txt (line 1)) (23.1.0)\n",
            "Requirement already satisfied: multidict<7.0,>=4.5 in /usr/local/lib/python3.10/dist-packages (from aiohttp<4.0.0,>=3.8.3->langchain==0.0.284->-r requirements.txt (line 1)) (6.0.4)\n",
            "Requirement already satisfied: yarl<2.0,>=1.0 in /usr/local/lib/python3.10/dist-packages (from aiohttp<4.0.0,>=3.8.3->langchain==0.0.284->-r requirements.txt (line 1)) (1.9.3)\n",
            "Requirement already satisfied: frozenlist>=1.1.1 in /usr/local/lib/python3.10/dist-packages (from aiohttp<4.0.0,>=3.8.3->langchain==0.0.284->-r requirements.txt (line 1)) (1.4.0)\n",
            "Requirement already satisfied: aiosignal>=1.1.2 in /usr/local/lib/python3.10/dist-packages (from aiohttp<4.0.0,>=3.8.3->langchain==0.0.284->-r requirements.txt (line 1)) (1.3.1)\n",
            "Requirement already satisfied: entrypoints in /usr/local/lib/python3.10/dist-packages (from altair<5,>=3.2.0->streamlit==1.22.0->-r requirements.txt (line 3)) (0.4)\n",
            "Requirement already satisfied: jinja2 in /usr/local/lib/python3.10/dist-packages (from altair<5,>=3.2.0->streamlit==1.22.0->-r requirements.txt (line 3)) (3.1.2)\n",
            "Requirement already satisfied: jsonschema>=3.0 in /usr/local/lib/python3.10/dist-packages (from altair<5,>=3.2.0->streamlit==1.22.0->-r requirements.txt (line 3)) (4.19.2)\n",
            "Requirement already satisfied: toolz in /usr/local/lib/python3.10/dist-packages (from altair<5,>=3.2.0->streamlit==1.22.0->-r requirements.txt (line 3)) (0.12.0)\n",
            "Collecting marshmallow<4.0.0,>=3.18.0 (from dataclasses-json<0.6.0,>=0.5.7->langchain==0.0.284->-r requirements.txt (line 1))\n",
            "  Downloading marshmallow-3.20.1-py3-none-any.whl (49 kB)\n",
            "\u001b[2K     \u001b[90m━━━━━━━━━━━━━━━━━━━━━━━━━━━━━━━━━━━━━━━━\u001b[0m \u001b[32m49.4/49.4 kB\u001b[0m \u001b[31m5.1 MB/s\u001b[0m eta \u001b[36m0:00:00\u001b[0m\n",
            "\u001b[?25hCollecting typing-inspect<1,>=0.4.0 (from dataclasses-json<0.6.0,>=0.5.7->langchain==0.0.284->-r requirements.txt (line 1))\n",
            "  Downloading typing_inspect-0.9.0-py3-none-any.whl (8.8 kB)\n",
            "Collecting gitdb<5,>=4.0.1 (from gitpython!=3.1.19->streamlit==1.22.0->-r requirements.txt (line 3))\n",
            "  Downloading gitdb-4.0.11-py3-none-any.whl (62 kB)\n",
            "\u001b[2K     \u001b[90m━━━━━━━━━━━━━━━━━━━━━━━━━━━━━━━━━━━━━━━━\u001b[0m \u001b[32m62.7/62.7 kB\u001b[0m \u001b[31m7.3 MB/s\u001b[0m eta \u001b[36m0:00:00\u001b[0m\n",
            "\u001b[?25hRequirement already satisfied: zipp>=0.5 in /usr/local/lib/python3.10/dist-packages (from importlib-metadata>=1.4->streamlit==1.22.0->-r requirements.txt (line 3)) (3.17.0)\n",
            "Requirement already satisfied: pytz>=2020.1 in /usr/local/lib/python3.10/dist-packages (from pandas<3,>=0.25->streamlit==1.22.0->-r requirements.txt (line 3)) (2023.3.post1)\n",
            "Requirement already satisfied: six>=1.5 in /usr/local/lib/python3.10/dist-packages (from python-dateutil->streamlit==1.22.0->-r requirements.txt (line 3)) (1.16.0)\n",
            "Requirement already satisfied: charset-normalizer<4,>=2 in /usr/local/lib/python3.10/dist-packages (from requests<3,>=2->langchain==0.0.284->-r requirements.txt (line 1)) (3.3.2)\n",
            "Requirement already satisfied: idna<4,>=2.5 in /usr/local/lib/python3.10/dist-packages (from requests<3,>=2->langchain==0.0.284->-r requirements.txt (line 1)) (3.6)\n",
            "Requirement already satisfied: urllib3<3,>=1.21.1 in /usr/local/lib/python3.10/dist-packages (from requests<3,>=2->langchain==0.0.284->-r requirements.txt (line 1)) (2.0.7)\n",
            "Requirement already satisfied: certifi>=2017.4.17 in /usr/local/lib/python3.10/dist-packages (from requests<3,>=2->langchain==0.0.284->-r requirements.txt (line 1)) (2023.11.17)\n",
            "Requirement already satisfied: markdown-it-py>=2.2.0 in /usr/local/lib/python3.10/dist-packages (from rich>=10.11.0->streamlit==1.22.0->-r requirements.txt (line 3)) (3.0.0)\n",
            "Requirement already satisfied: pygments<3.0.0,>=2.13.0 in /usr/local/lib/python3.10/dist-packages (from rich>=10.11.0->streamlit==1.22.0->-r requirements.txt (line 3)) (2.16.1)\n",
            "Requirement already satisfied: greenlet!=0.4.17 in /usr/local/lib/python3.10/dist-packages (from SQLAlchemy<3,>=1.4->langchain==0.0.284->-r requirements.txt (line 1)) (3.0.1)\n",
            "Collecting smmap<6,>=3.0.1 (from gitdb<5,>=4.0.1->gitpython!=3.1.19->streamlit==1.22.0->-r requirements.txt (line 3))\n",
            "  Downloading smmap-5.0.1-py3-none-any.whl (24 kB)\n",
            "Requirement already satisfied: MarkupSafe>=2.0 in /usr/local/lib/python3.10/dist-packages (from jinja2->altair<5,>=3.2.0->streamlit==1.22.0->-r requirements.txt (line 3)) (2.1.3)\n",
            "Requirement already satisfied: jsonschema-specifications>=2023.03.6 in /usr/local/lib/python3.10/dist-packages (from jsonschema>=3.0->altair<5,>=3.2.0->streamlit==1.22.0->-r requirements.txt (line 3)) (2023.11.1)\n",
            "Requirement already satisfied: referencing>=0.28.4 in /usr/local/lib/python3.10/dist-packages (from jsonschema>=3.0->altair<5,>=3.2.0->streamlit==1.22.0->-r requirements.txt (line 3)) (0.31.1)\n",
            "Requirement already satisfied: rpds-py>=0.7.1 in /usr/local/lib/python3.10/dist-packages (from jsonschema>=3.0->altair<5,>=3.2.0->streamlit==1.22.0->-r requirements.txt (line 3)) (0.13.2)\n",
            "Requirement already satisfied: mdurl~=0.1 in /usr/local/lib/python3.10/dist-packages (from markdown-it-py>=2.2.0->rich>=10.11.0->streamlit==1.22.0->-r requirements.txt (line 3)) (0.1.2)\n",
            "Collecting mypy-extensions>=0.3.0 (from typing-inspect<1,>=0.4.0->dataclasses-json<0.6.0,>=0.5.7->langchain==0.0.284->-r requirements.txt (line 1))\n",
            "  Downloading mypy_extensions-1.0.0-py3-none-any.whl (4.7 kB)\n",
            "Installing collected packages: faiss-cpu, watchdog, validators, smmap, python-dotenv, pympler, protobuf, mypy-extensions, marshmallow, typing-inspect, tiktoken, pydeck, langsmith, gitdb, gitpython, dataclasses-json, langchain, streamlit\n",
            "  Attempting uninstall: protobuf\n",
            "    Found existing installation: protobuf 3.20.3\n",
            "    Uninstalling protobuf-3.20.3:\n",
            "      Successfully uninstalled protobuf-3.20.3\n",
            "\u001b[31mERROR: pip's dependency resolver does not currently take into account all the packages that are installed. This behaviour is the source of the following dependency conflicts.\n",
            "llmx 0.0.15a0 requires cohere, which is not installed.\n",
            "llmx 0.0.15a0 requires openai, which is not installed.\n",
            "tensorflow 2.14.0 requires protobuf!=4.21.0,!=4.21.1,!=4.21.2,!=4.21.3,!=4.21.4,!=4.21.5,<5.0.0dev,>=3.20.3, but you have protobuf 3.19.6 which is incompatible.\n",
            "tensorflow-datasets 4.9.3 requires protobuf>=3.20, but you have protobuf 3.19.6 which is incompatible.\n",
            "tensorflow-metadata 1.14.0 requires protobuf<4.21,>=3.20.3, but you have protobuf 3.19.6 which is incompatible.\u001b[0m\u001b[31m\n",
            "\u001b[0mSuccessfully installed dataclasses-json-0.5.14 faiss-cpu-1.7.4 gitdb-4.0.11 gitpython-3.1.40 langchain-0.0.284 langsmith-0.0.67 marshmallow-3.20.1 mypy-extensions-1.0.0 protobuf-3.19.6 pydeck-0.8.1b0 pympler-1.0.1 python-dotenv-1.0.0 smmap-5.0.1 streamlit-1.22.0 tiktoken-0.4.0 typing-inspect-0.9.0 validators-0.22.0 watchdog-3.0.0\n"
          ]
        },
        {
          "output_type": "display_data",
          "data": {
            "application/vnd.colab-display-data+json": {
              "pip_warning": {
                "packages": [
                  "google"
                ]
              }
            }
          },
          "metadata": {}
        }
      ]
    },
    {
      "cell_type": "code",
      "source": [
        "# Restart the runtime once all the required installations are done"
      ],
      "metadata": {
        "id": "JSq-jw8D8Mxl"
      },
      "execution_count": null,
      "outputs": []
    },
    {
      "cell_type": "code",
      "source": [
        "from langchain.vectorstores import FAISS\n",
        "from langchain.chains import RetrievalQA\n",
        "from langchain.embeddings import HuggingFaceInstructEmbeddings\n",
        "\n",
        "!pip install InstructorEmbedding\n",
        "!pip install sentence_transformers\n",
        "# Initialize instructor embeddings using the Hugging Face model\n",
        "instructor_embeddings = HuggingFaceInstructEmbeddings(model_name=\"hkunlp/instructor-large\")"
      ],
      "metadata": {
        "colab": {
          "base_uri": "https://localhost:8080/"
        },
        "id": "aifL4S1lARY7",
        "outputId": "e642471a-19a6-4fd1-ba2a-c763dfe8986a"
      },
      "execution_count": null,
      "outputs": [
        {
          "output_type": "stream",
          "name": "stdout",
          "text": [
            "load INSTRUCTOR_Transformer\n",
            "max_seq_length  512\n"
          ]
        }
      ]
    },
    {
      "cell_type": "code",
      "execution_count": null,
      "metadata": {
        "id": "yRgnKzM85uwW"
      },
      "outputs": [],
      "source": [
        "from langchain.llms import GooglePalm\n",
        "api_key = 'key from makersuit'\n",
        "\n",
        "llm = GooglePalm(google_api_key=api_key, temperature=0.3)"
      ]
    },
    {
      "cell_type": "markdown",
      "source": [
        "## CSV Loading"
      ],
      "metadata": {
        "id": "CsxZ7jmllt0E"
      }
    },
    {
      "cell_type": "code",
      "source": [
        "# Load the data from EPFO faq's\n",
        "from langchain.document_loaders.csv_loader import CSVLoader\n",
        "\n",
        "loader = CSVLoader(file_path='/content/drive/MyDrive/Career/Applied AI/Case Studies/EPFO LLM Project/EPFO_FAQs.csv', encoding='unicode_escape', source_column=\"Question \")\n",
        "\n",
        "# Store the loaded data in the 'data' variable\n",
        "data = loader.load()\n",
        "\n",
        "# correcting the rows as there are only specific number of questions\n",
        "data=data[:41]\n",
        "\n",
        "# lets check the read data\n",
        "data"
      ],
      "metadata": {
        "colab": {
          "base_uri": "https://localhost:8080/"
        },
        "id": "PnfCxzVpF6kt",
        "outputId": "93a605fb-06ea-419f-d53a-f84be4093561"
      },
      "execution_count": null,
      "outputs": [
        {
          "output_type": "execute_result",
          "data": {
            "text/plain": [
              "[Document(page_content='Question: What is Universal Account Number or UAN\\nAnswer: UAN is 12-digit number provided to each member of EPFO. The UAN acts as an umbrella for the multiple Member IDs allotted to an individual. This number acts as a pivot to link multiple Member Identification Numbers (Member Id) allotted to a single member under single Universal Account Number. UAN duly seeded with KYC detail. This enables the member to avail various online services directly without the need for any intermediation by the employer.', metadata={'source': 'What is Universal Account Number or UAN', 'row': 0}),\n",
              " Document(page_content='Question: What is KYC\\nAnswer: Know Your Customer or KYC is a one-time process which helps in identity verification of subscribers by linking UAN with KYC details. The Employees / Employers need to provide KYC details viz., Aadhaar, PAN, Bank etc., for unique identification of the employees enabling seamless online services.', metadata={'source': 'What is KYC', 'row': 1}),\n",
              " Document(page_content='Question: How can the employer generate UAN for newly joined employees not having UAN\\nAnswer: The employer has to login to EPF employer portal using the User ID and password and follow the below given steps: [ Link: https://unifiedportal-emp.epfindia.gov.in/epfo/ ] o Go to \\x93Member\\x94 section. o Click on the \\x93Register Individual\\x94. Check the previous employment as \\x93NO\\x94. o Enter the employee\\x92s details and KYC details such as PAN, Aadhaar, Bank details, etc. o Approve all details in the \\x93Approval\\x94 section. o A new UAN is generated by EPFO and the employer can link the PF account with UAN of the employee.', metadata={'source': 'How can the employer generate UAN for newly joined employees not having UAN', 'row': 2}),\n",
              " Document(page_content='Question: How can an employee generate his UAN on his own\\nAnswer: An employee can generate his UAN by visiting the unified member portal https://unifiedportal-mem.epfindia.gov.in/memberinterface/noauth/citizenRegistration/viewRegistraton? and clicking on \\x93Direct UAN Allotment by Employees\\x94. A valid Aadhaar number with registered mobile is pre-requisite to avail this facility. Employee has to provide employment details to obtain UAN.', metadata={'source': 'How can an employee generate his UAN on his own', 'row': 3}),\n",
              " Document(page_content='Question: How can a member know his UAN\\nAnswer: o Visit unified member portal. o Enter mobile number as per EPFO records. o Click on the \\x93Get Authorization Pin\\x94 option. o A Pin will be sent to your mobile number registered with EPFO and enter the Pin. o Enter the details such as name, Date of Birth as per EPFO records and select any one of Aadhaar, PAN, Member Id and furnish the details then click \\x93Show my UAN\\x94.', metadata={'source': 'How can a member know his UAN', 'row': 4}),\n",
              " Document(page_content='Question: How can a member activate his UAN\\nAnswer: o Visit EPF Member Portal and click on \\x93Activate UAN\\x94 OR UAN Activation under Employee Centric Services of EPFO on UMANG APP o Select any one of the following \\x96 UAN, Member ID, Aadhaar or PAN. o Fill additional details such as Name, Date of Birth, Mobile Number and Email ID and click on \\x93Get Authorization PIN\\x94 o An authorization PIN will be sent to the mobile number registered with EPFO o Enter this PIN and click on \\x93Validate OTP and Activate UAN\\x94 o UAN will be activated and password will be sent to member\\x92s mobile. Now the member can log in to unified member portal using his UAN and password.', metadata={'source': 'How can a member activate his UAN', 'row': 5}),\n",
              " Document(page_content='Question: Can one mobile number be linked with multiple UANs\\nAnswer: One mobile number can be used for registration with one UAN only.', metadata={'source': 'Can one mobile number be linked with multiple UANs', 'row': 6}),\n",
              " Document(page_content='Question: . How to activate UAN via offline mode\\nAnswer: No. UAN registration and activation is done only online', metadata={'source': '. How to activate UAN via offline mode', 'row': 7}),\n",
              " Document(page_content='Question: Can contractual employees register their UAN and avail online facilities\\nAnswer: Both contractual, as well as direct employees, can avail UAN facilities online after registration and activation.', metadata={'source': 'Can contractual employees register their UAN and avail online facilities', 'row': 8}),\n",
              " Document(page_content='Question: In which format I should create my UAN password\\nAnswer: The password should be alphanumeric, have minimum 1 Special Character and 8 - 25 character long. Special characters are: ! @ # $ % ^ & * ( ) Sample Password : abc@1973', metadata={'source': 'In which format I should create my UAN password', 'row': 9}),\n",
              " Document(page_content='Question: What can I do if my UAN is not seeded with Aadhaar\\nAnswer: Member can himself seed UAN with Aadhaar by visiting member portal. Thereafter the employer must approve the same to complete the linkage. Alternatively, member can ask his employer to link Aadhaar with UAN. The member can use \\x93e-KYC Portal\\x94 under Online Service available on home page of EPFO website or e-KYC service under EPFO in UMANG APP to link his/her UAN with Aadhaar without employer\\x92s intervention.', metadata={'source': 'What can I do if my UAN is not seeded with Aadhaar', 'row': 10}),\n",
              " Document(page_content='Question: How to correct wrong aadhar with UAN\\nAnswer: Member has to apply for correction to Regional office of EPFO where his EPF account is maintained through submission of joint request.', metadata={'source': 'How to correct wrong aadhar with UAN', 'row': 11}),\n",
              " Document(page_content='Question: How can I seed my KYC details with UAN\\nAnswer: o Login to your EPF account at the unified member portal o Click on the \\x93KYC\\x94 option in the \\x93Manage\\x94 section o You can select the details (PAN, Bank Account, Aadhar etc) which you want to link with UAN o Fill in the requisite fields o Now click on the \\x93Save\\x94 option o Your request will be displayed in \\x93KYC Pending for Approval\\x94 o Once employer approves the details the message will be changed to \\x93Digitally approved by the employer\\x94 o Once UIDAI confirms your details, \\x93Verified by UIDAI\\x94 is displayed against your Aadhaar.', metadata={'source': 'How can I seed my KYC details with UAN', 'row': 12}),\n",
              " Document(page_content='Question: How can I seed my Bank account details\\nAnswer: o Login to your EPF account at the unified member portal o Enter your bank account number and IFSC code. o The details have to be approved by your employer. o Once approved the bank account gets seeded.', metadata={'source': 'How can I seed my Bank account details', 'row': 13}),\n",
              " Document(page_content='Question: Can I change my already seeded Bank account number\\nAnswer: Yes. The bank account number can be updated any number of times by following the steps mentioned above. However, the bank account details cannot be changed during pendency of any claim with EPFO.', metadata={'source': 'Can I change my already seeded Bank account number', 'row': 14}),\n",
              " Document(page_content='Question: What precautions should I take while seeding Bank account number\\nAnswer: You should seed active bank account to which you are either an individual or joint holder with your spouse. Also ensure that the bank account does not have a deposit cap greater than your withdrawal benefit.', metadata={'source': 'What precautions should I take while seeding Bank account number', 'row': 15}),\n",
              " Document(page_content='Question: I have changed my job. Should I activate my UAN again\\nAnswer: UAN has to be activated only once. You do not have to re-activate it every time you switch jobs.', metadata={'source': 'I have changed my job. Should I activate my UAN again', 'row': 16}),\n",
              " Document(page_content='Question: Do I have to pay any fee for UAN registration\\nAnswer: No, UAN registration is free of cost and you do not have to pay any fee to activate it.', metadata={'source': 'Do I have to pay any fee for UAN registration', 'row': 17}),\n",
              " Document(page_content='Question: Can I activate UAN through SMS or mobile app\\nAnswer: You cannot activate UAN through SMS. However, you can activate UAN through Umang App. To download Umang app, please visit Google Play store.', metadata={'source': 'Can I activate UAN through SMS or mobile app', 'row': 18}),\n",
              " Document(page_content='Question: What are the documents required for change in Date of Birth of EPF members\\nAnswer: Any of the following documents may be accepted as valid proof of date of birth: o Birth certificate issued by the Registrar of Births and Deaths o Any School / education related certificate o Certificate based on the service records of the Central / State Government Organization. o Passport o Any other reliable document issued by a Government department. o In the absence of proof of date of birth as above, Medical certificate issued by Civil Surgeon after examining the member medically and supported with an affidavit on oath by the member duly authenticated by a competent court. o Aadhaar / e-Aadhaar: The change in date of birth shall be accepted as per Aadhaar /eAadhaar upto a maximum range of plus or minus three years of the date of birth recorded earlier with EPFO.', metadata={'source': 'What are the documents required for change in Date of Birth of EPF members', 'row': 19}),\n",
              " Document(page_content='Question: Do I need to upload documents on the EPFO Portal\\nAnswer: No, you are not required to upload documents on the EPFO Portal. Just the name as per the document and the document number must be specified.', metadata={'source': 'Do I need to upload documents on the EPFO Portal', 'row': 20}),\n",
              " Document(page_content='Question: What are the minimum details which are required to be linked with UAN for availing online services\\nAnswer: Mobile, Aadhar and Bank account number.', metadata={'source': 'What are the minimum details which are required to be linked with UAN for availing online services', 'row': 21}),\n",
              " Document(page_content='Question: Is linking PAN with UAN beneficial for availing online services\\nAnswer: Yes, if you link your PAN number with UAN then you can avail tax benefits on EPF withdrawal', metadata={'source': 'Is linking PAN with UAN beneficial for availing online services', 'row': 22}),\n",
              " Document(page_content='Question: My name is same in PAN card and Aadhaar card but I am not able to link it with my UAN\\nAnswer: The name as per Aadhaar and PAN must be same as that in PF records for KYC to be successfully completed. Please note that the name as printed on PAN card may be different from that in the Income Tax database. In such a case you must enter the name as per IT database to get it successfully linked with UAN. If there is a name mismatch then a name change request can be raised.', metadata={'source': 'My name is same in PAN card and Aadhaar card but I am not able to link it with my UAN', 'row': 23}),\n",
              " Document(page_content='Question: What to do if my employer is not approving KYC\\nAnswer: In case your employer is not approving KYC details, you can directly approach administration or HR department with request. If it is taking more time you can escalate it to higher authority in the organization. If no one is responding to your request you can approach EPF Grievance via http://epfigms.gov.in.', metadata={'source': 'What to do if my employer is not approving KYC', 'row': 24}),\n",
              " Document(page_content='Question: How do I know that KYC updated by me is approved by the employer\\nAnswer: The status will be shown against updated KYC document on the same page. The system will also trigger SMS on your register mobile number.', metadata={'source': 'How do I know that KYC updated by me is approved by the employer', 'row': 25}),\n",
              " Document(page_content='Question: My employer erroneously entered wrong PAN and Bank account details\\nAnswer: You can login to your member portal and update the PAN and Bank account details yourself. The same will be digitally approved/updated by the employer', metadata={'source': 'My employer erroneously entered wrong PAN and Bank account details', 'row': 26}),\n",
              " Document(page_content='Question: My employer has not updated my date of exit despite lapse of two months after leaving job. How can I update my date of exit\\nAnswer: o Visit Member Unified Portal o Enter UAN, Password and CAPTCHA. o Go to Manage and Click Mark Exit o Choose \\x91PF Account Number\\x92 from \\x91select employment\\x92 drop down o Enter \\x91Date of Exit\\x92 and \\x91Reason of Exit\\x92 o Click on option \\x91Request OTP\\x92 and enter OTP sent on your Aadhaar linked Mobile Number o Select the Checkbox o Click \\x91Update\\x92 o Click \\x91OK\\x92', metadata={'source': 'My employer has not updated my date of exit despite lapse of two months after leaving job. How can I update my date of exit', 'row': 27}),\n",
              " Document(page_content='Question: How to change my UAN linked mobile number\\nAnswer: After login into the Member Interface of Unified Portal, there is a provision in \\x93Member Profile\\x94 section to change your mobile number.', metadata={'source': 'How to change my UAN linked mobile number', 'row': 28}),\n",
              " Document(page_content='Question: Can I apply online claim if my mobile is not linked with Aadhaar\\nAnswer: No, you cannot submit online claim if your mobile is not linked with Aadhaar. At the time of claim submission, OTP is sent to Aadhaar linked mobile only.', metadata={'source': 'Can I apply online claim if my mobile is not linked with Aadhaar', 'row': 29}),\n",
              " Document(page_content='Question: What to do if my Aadhaar is not linked with mobile\\nAnswer: Please visit your nearest Aadhaar Service Centre. For more details you can visit official website of UIDAI https://uidai.gov.in.', metadata={'source': 'What to do if my Aadhaar is not linked with mobile', 'row': 30}),\n",
              " Document(page_content='Question: What to do if I forgot my password\\nAnswer: Please click on \\x93Forgot Password\\x94 at Member Interface of Unified Portal. Provide your UAN with CAPTCHA. System will send the OTP on your mobile which is seeded with UAN and you can reset the password.', metadata={'source': 'What to do if I forgot my password', 'row': 31}),\n",
              " Document(page_content='Question: What to do if I forgot my password and my registered mobile with UAN has also changed\\nAnswer: Please click on \\x93Forgot Password\\x94 at Member Interface of Unified Portal. Provide your UAN with CAPTCHA. System will ask whether OTP is to be sent on registered mobile or some other mobile. System will ask to enter your basic details (Name, DOB and Gender). After successful matching of basic details system will ask to provide your Aadhar or PAN. If KYC details are matched system will ask new mobile number and OTP will be sent to the new mobile. After successful verification of OTP, you can reset your password.', metadata={'source': 'What to do if I forgot my password and my registered mobile with UAN has also changed', 'row': 32}),\n",
              " Document(page_content='Question: What is to be done in case I change the job and join somewhere else\\nAnswer: You need to simply declare your UAN with your subsequent employer.', metadata={'source': 'What is to be done in case I change the job and join somewhere else', 'row': 33}),\n",
              " Document(page_content='Question: Which claims that can be filed online\\nAnswer: You can file Withdrawal, Advance, and Pension claim (after e-Nomination) online through EPFO Member Portal or through Umang app.', metadata={'source': 'Which claims that can be filed online', 'row': 34}),\n",
              " Document(page_content='Question: How can I view/download my passbook\\nAnswer: First of all, you need to login to the UAN Member Portal with your UAN and password. Then go to the menu \\x91Download\\x92 and select \\x91Download Passbook\\x92. A link provided to download PDF of this passbook.', metadata={'source': 'How can I view/download my passbook', 'row': 35}),\n",
              " Document(page_content='Question: How can I view or download my UAN card\\nAnswer: You need to login first with your valid UAN and password. Then go to \\x91Download\\x92 Menu and select an option \\x91Download UAN Card\\x92. PDF of UAN card can be downloaded.', metadata={'source': 'How can I view or download my UAN card', 'row': 36}),\n",
              " Document(page_content='Question: I am not able to see the Passbook or Passbook is not available\\nAnswer: In case you are working in an Exempted establishment then your passbook will not be available in the UAN portal. You may contact your establishment to get the PF statement.', metadata={'source': 'I am not able to see the Passbook or Passbook is not available', 'row': 37}),\n",
              " Document(page_content='Question: Two UAN allotted to me what should I do\\nAnswer: In case two UAN are allotted to you, this could be because of not filling of Date of Exit by your previous employer in ECR filing and / or you have applied for transfer of service in your current establishment. In such a case, it is suggested to immediately report the matter to your employer and through email to EPFO (uanepf@epfindia.gov.in) by mentioning, both -your current UAN and your previous UAN(s). After due verification, the previous UAN(s) allotted to you will be blocked and the current UAN will be kept active.', metadata={'source': 'Two UAN allotted to me what should I do', 'row': 38}),\n",
              " Document(page_content='Question: Why I am not able to link or list previous member IDs pertaining to me\\nAnswer: As the details are matched with previous Member ID w.r.t. current Member ID and if there is any deviation in name etc. it will not allow for link / list Member ID.', metadata={'source': 'Why I am not able to link or list previous member IDs pertaining to me', 'row': 39}),\n",
              " Document(page_content='Question: How to change Name and DOB in EPFO records as per Aadhaar Card\\nAnswer: o Enter UAN, Password and CAPTCHA. o Click Sign-in o Click Manage and then Click Modify Basic Details o Enter Aadhaar, Name and DOB as per Aadhaar. Click Save/Submit. Click \\x93Yes\\x94. o Inform your Employer to approve your Name Change Request', metadata={'source': 'How to change Name and DOB in EPFO records as per Aadhaar Card', 'row': 40})]"
            ]
          },
          "metadata": {},
          "execution_count": 3
        }
      ]
    },
    {
      "cell_type": "markdown",
      "source": [
        "## Creating a vector database and question embedding"
      ],
      "metadata": {
        "id": "CO4gJV5Pl6ww"
      }
    },
    {
      "cell_type": "code",
      "source": [
        "# Create a FAISS instance for vector database from 'data'\n",
        "vectordb = FAISS.from_documents(documents=data,embedding=instructor_embeddings)\n",
        "\n",
        "# Create a retriever for querying the vector database\n",
        "retriever = vectordb.as_retriever(score_threshold = 0.7)"
      ],
      "metadata": {
        "id": "Zpzy8k8iI2qq"
      },
      "execution_count": null,
      "outputs": []
    },
    {
      "cell_type": "code",
      "source": [
        "# Sample question and corresponding searched questions in the vector database\n",
        "rdocs = retriever.get_relevant_documents(\"What should I do if I change my job\")\n",
        "rdocs"
      ],
      "metadata": {
        "colab": {
          "base_uri": "https://localhost:8080/"
        },
        "id": "lNBs1RK3MPh1",
        "outputId": "169abe61-b888-4b04-bf4e-a527f75be678"
      },
      "execution_count": null,
      "outputs": [
        {
          "output_type": "execute_result",
          "data": {
            "text/plain": [
              "[Document(page_content='Question: What is to be done in case I change the job and join somewhere else\\nAnswer: You need to simply declare your UAN with your subsequent employer.', metadata={'source': 'What is to be done in case I change the job and join somewhere else', 'row': 33}),\n",
              " Document(page_content='Question: I have changed my job. Should I activate my UAN again\\nAnswer: UAN has to be activated only once. You do not have to re-activate it every time you switch jobs.', metadata={'source': 'I have changed my job. Should I activate my UAN again', 'row': 16}),\n",
              " Document(page_content='Question: Two UAN allotted to me what should I do\\nAnswer: In case two UAN are allotted to you, this could be because of not filling of Date of Exit by your previous employer in ECR filing and / or you have applied for transfer of service in your current establishment. In such a case, it is suggested to immediately report the matter to your employer and through email to EPFO (uanepf@epfindia.gov.in) by mentioning, both -your current UAN and your previous UAN(s). After due verification, the previous UAN(s) allotted to you will be blocked and the current UAN will be kept active.', metadata={'source': 'Two UAN allotted to me what should I do', 'row': 38}),\n",
              " Document(page_content='Question: What to do if my employer is not approving KYC\\nAnswer: In case your employer is not approving KYC details, you can directly approach administration or HR department with request. If it is taking more time you can escalate it to higher authority in the organization. If no one is responding to your request you can approach EPF Grievance via http://epfigms.gov.in.', metadata={'source': 'What to do if my employer is not approving KYC', 'row': 24})]"
            ]
          },
          "metadata": {},
          "execution_count": 8
        }
      ]
    },
    {
      "cell_type": "code",
      "source": [
        "rdocs = retriever.get_relevant_documents(\"What is the procedure to change the password and can i link two mobile phones to a single account\")\n",
        "rdocs"
      ],
      "metadata": {
        "colab": {
          "base_uri": "https://localhost:8080/"
        },
        "id": "-ToU7ewYMCEs",
        "outputId": "2687a46e-ec0b-4da3-d726-e3a236f5d976"
      },
      "execution_count": null,
      "outputs": [
        {
          "output_type": "execute_result",
          "data": {
            "text/plain": [
              "[Document(page_content='Question: What to do if I forgot my password and my registered mobile with UAN has also changed\\nAnswer: Please click on \\x93Forgot Password\\x94 at Member Interface of Unified Portal. Provide your UAN with CAPTCHA. System will ask whether OTP is to be sent on registered mobile or some other mobile. System will ask to enter your basic details (Name, DOB and Gender). After successful matching of basic details system will ask to provide your Aadhar or PAN. If KYC details are matched system will ask new mobile number and OTP will be sent to the new mobile. After successful verification of OTP, you can reset your password.', metadata={'source': 'What to do if I forgot my password and my registered mobile with UAN has also changed', 'row': 32}),\n",
              " Document(page_content='Question: How to change my UAN linked mobile number\\nAnswer: After login into the Member Interface of Unified Portal, there is a provision in \\x93Member Profile\\x94 section to change your mobile number.', metadata={'source': 'How to change my UAN linked mobile number', 'row': 28}),\n",
              " Document(page_content='Question: What to do if I forgot my password\\nAnswer: Please click on \\x93Forgot Password\\x94 at Member Interface of Unified Portal. Provide your UAN with CAPTCHA. System will send the OTP on your mobile which is seeded with UAN and you can reset the password.', metadata={'source': 'What to do if I forgot my password', 'row': 31}),\n",
              " Document(page_content='Question: Can one mobile number be linked with multiple UANs\\nAnswer: One mobile number can be used for registration with one UAN only.', metadata={'source': 'Can one mobile number be linked with multiple UANs', 'row': 6})]"
            ]
          },
          "metadata": {},
          "execution_count": 70
        }
      ]
    },
    {
      "cell_type": "code",
      "source": [
        "rdocs = retriever.get_relevant_documents(\"How to link an AADHAR with UAN\")\n",
        "rdocs"
      ],
      "metadata": {
        "colab": {
          "base_uri": "https://localhost:8080/"
        },
        "id": "jEGalsdqmlUk",
        "outputId": "93e0cc5d-8ebc-417c-f898-4ce6f9f20a6c"
      },
      "execution_count": null,
      "outputs": [
        {
          "output_type": "execute_result",
          "data": {
            "text/plain": [
              "[Document(page_content='Question: What can I do if my UAN is not seeded with Aadhaar\\nAnswer: Member can himself seed UAN with Aadhaar by visiting member portal. Thereafter the employer must approve the same to complete the linkage. Alternatively, member can ask his employer to link Aadhaar with UAN. The member can use \\x93e-KYC Portal\\x94 under Online Service available on home page of EPFO website or e-KYC service under EPFO in UMANG APP to link his/her UAN with Aadhaar without employer\\x92s intervention.', metadata={'source': 'What can I do if my UAN is not seeded with Aadhaar', 'row': 10}),\n",
              " Document(page_content='Question: How can I seed my KYC details with UAN\\nAnswer: o Login to your EPF account at the unified member portal o Click on the \\x93KYC\\x94 option in the \\x93Manage\\x94 section o You can select the details (PAN, Bank Account, Aadhar etc) which you want to link with UAN o Fill in the requisite fields o Now click on the \\x93Save\\x94 option o Your request will be displayed in \\x93KYC Pending for Approval\\x94 o Once employer approves the details the message will be changed to \\x93Digitally approved by the employer\\x94 o Once UIDAI confirms your details, \\x93Verified by UIDAI\\x94 is displayed against your Aadhaar.', metadata={'source': 'How can I seed my KYC details with UAN', 'row': 12}),\n",
              " Document(page_content='Question: What are the minimum details which are required to be linked with UAN for availing online services\\nAnswer: Mobile, Aadhar and Bank account number.', metadata={'source': 'What are the minimum details which are required to be linked with UAN for availing online services', 'row': 21}),\n",
              " Document(page_content='Question: How can a member know his UAN\\nAnswer: o Visit unified member portal. o Enter mobile number as per EPFO records. o Click on the \\x93Get Authorization Pin\\x94 option. o A Pin will be sent to your mobile number registered with EPFO and enter the Pin. o Enter the details such as name, Date of Birth as per EPFO records and select any one of Aadhaar, PAN, Member Id and furnish the details then click \\x93Show my UAN\\x94.', metadata={'source': 'How can a member know his UAN', 'row': 4})]"
            ]
          },
          "metadata": {},
          "execution_count": 71
        }
      ]
    },
    {
      "cell_type": "markdown",
      "source": [
        "## Create RetrievalQA chain along with prompt template"
      ],
      "metadata": {
        "id": "PFC-YotDOZ27"
      }
    },
    {
      "cell_type": "code",
      "source": [
        "from langchain.prompts import PromptTemplate\n",
        "\n",
        "prompt_template = \"\"\"Given the following context and a question, generate an answer based on this context only.\n",
        "In the answer try to provide as much text as possible from \"Answer\" section in the source document context without making much changes.\n",
        "If the answer is not found in the context, kindly state \"I don't know.\" Don't try to make up an answer.\n",
        "\n",
        "CONTEXT: {context}\n",
        "\n",
        "QUESTION: {question}\"\"\"\n",
        "\n",
        "\n",
        "PROMPT = PromptTemplate(\n",
        "    template=prompt_template, input_variables=[\"context\", \"question\"]\n",
        ")\n",
        "chain_type_kwargs = {\"prompt\": PROMPT}\n",
        "\n",
        "\n",
        "from langchain.chains import RetrievalQA\n",
        "\n",
        "chain = RetrievalQA.from_chain_type(llm=llm,\n",
        "                            chain_type=\"stuff\",\n",
        "                            retriever=retriever,\n",
        "                            input_key=\"query\",\n",
        "                            return_source_documents=True,\n",
        "                            chain_type_kwargs=chain_type_kwargs)"
      ],
      "metadata": {
        "id": "gQNaT8O3OV3b"
      },
      "execution_count": null,
      "outputs": []
    },
    {
      "cell_type": "code",
      "source": [
        "chain(\"What should I do if I change my job\")"
      ],
      "metadata": {
        "colab": {
          "base_uri": "https://localhost:8080/"
        },
        "id": "QE3j58EwO3og",
        "outputId": "d27e9ef2-7c88-4bc6-bdce-55bb91a4aece"
      },
      "execution_count": null,
      "outputs": [
        {
          "output_type": "execute_result",
          "data": {
            "text/plain": [
              "{'query': 'What should I do if I change my job',\n",
              " 'result': 'You need to simply declare your UAN with your subsequent employer.',\n",
              " 'source_documents': [Document(page_content='Question: What is to be done in case I change the job and join somewhere else\\nAnswer: You need to simply declare your UAN with your subsequent employer.', metadata={'source': 'What is to be done in case I change the job and join somewhere else', 'row': 33}),\n",
              "  Document(page_content='Question: I have changed my job. Should I activate my UAN again\\nAnswer: UAN has to be activated only once. You do not have to re-activate it every time you switch jobs.', metadata={'source': 'I have changed my job. Should I activate my UAN again', 'row': 16}),\n",
              "  Document(page_content='Question: Two UAN allotted to me what should I do\\nAnswer: In case two UAN are allotted to you, this could be because of not filling of Date of Exit by your previous employer in ECR filing and / or you have applied for transfer of service in your current establishment. In such a case, it is suggested to immediately report the matter to your employer and through email to EPFO (uanepf@epfindia.gov.in) by mentioning, both -your current UAN and your previous UAN(s). After due verification, the previous UAN(s) allotted to you will be blocked and the current UAN will be kept active.', metadata={'source': 'Two UAN allotted to me what should I do', 'row': 38}),\n",
              "  Document(page_content='Question: What to do if my employer is not approving KYC\\nAnswer: In case your employer is not approving KYC details, you can directly approach administration or HR department with request. If it is taking more time you can escalate it to higher authority in the organization. If no one is responding to your request you can approach EPF Grievance via http://epfigms.gov.in.', metadata={'source': 'What to do if my employer is not approving KYC', 'row': 24})]}"
            ]
          },
          "metadata": {},
          "execution_count": 10
        }
      ]
    },
    {
      "cell_type": "code",
      "source": [
        "chain(\"What is the procedure to change the password\")"
      ],
      "metadata": {
        "colab": {
          "base_uri": "https://localhost:8080/"
        },
        "id": "cgSQt6NRPN60",
        "outputId": "483dbb97-76a6-4b91-e6ba-7f20cf04d08d"
      },
      "execution_count": null,
      "outputs": [
        {
          "output_type": "execute_result",
          "data": {
            "text/plain": [
              "{'query': 'What is the procedure to change the password',\n",
              " 'result': '\\nAnswer: Please click on “Change Password” at Member Interface of Unified Portal. Provide your UAN with CAPTCHA. System will send the OTP on your mobile which is seeded with UAN and you can reset the password.',\n",
              " 'source_documents': [Document(page_content='Question: In which format I should create my UAN password\\nAnswer: The password should be alphanumeric, have minimum 1 Special Character and 8 - 25 character long. Special characters are: ! @ # $ % ^ & * ( ) Sample Password : abc@1973', metadata={'source': 'In which format I should create my UAN password', 'row': 9}),\n",
              "  Document(page_content='Question: What to do if I forgot my password\\nAnswer: Please click on \\x93Forgot Password\\x94 at Member Interface of Unified Portal. Provide your UAN with CAPTCHA. System will send the OTP on your mobile which is seeded with UAN and you can reset the password.', metadata={'source': 'What to do if I forgot my password', 'row': 31}),\n",
              "  Document(page_content='Question: What to do if I forgot my password and my registered mobile with UAN has also changed\\nAnswer: Please click on \\x93Forgot Password\\x94 at Member Interface of Unified Portal. Provide your UAN with CAPTCHA. System will ask whether OTP is to be sent on registered mobile or some other mobile. System will ask to enter your basic details (Name, DOB and Gender). After successful matching of basic details system will ask to provide your Aadhar or PAN. If KYC details are matched system will ask new mobile number and OTP will be sent to the new mobile. After successful verification of OTP, you can reset your password.', metadata={'source': 'What to do if I forgot my password and my registered mobile with UAN has also changed', 'row': 32}),\n",
              "  Document(page_content='Question: Can I change my already seeded Bank account number\\nAnswer: Yes. The bank account number can be updated any number of times by following the steps mentioned above. However, the bank account details cannot be changed during pendency of any claim with EPFO.', metadata={'source': 'Can I change my already seeded Bank account number', 'row': 14})]}"
            ]
          },
          "metadata": {},
          "execution_count": 74
        }
      ]
    },
    {
      "cell_type": "code",
      "source": [
        "chain(\"How to link an AADHAR with UAN\")"
      ],
      "metadata": {
        "colab": {
          "base_uri": "https://localhost:8080/"
        },
        "id": "OMMhxuzam8iW",
        "outputId": "7b56ee3c-2d76-4073-c658-072e1ba657d9"
      },
      "execution_count": null,
      "outputs": [
        {
          "output_type": "execute_result",
          "data": {
            "text/plain": [
              "{'query': 'How to link an AADHAR with UAN',\n",
              " 'result': 'Member can himself seed UAN with Aadhaar by visiting member portal. Thereafter the employer must approve the same to complete the linkage. Alternatively, member can ask his employer to link Aadhaar with UAN. The member can use “e-KYC Portal” under Online Service available on home page of EPFO website or e-KYC service under EPFO in UMANG APP to link his/her UAN with Aadhaar without employer’s intervention.',\n",
              " 'source_documents': [Document(page_content='Question: What can I do if my UAN is not seeded with Aadhaar\\nAnswer: Member can himself seed UAN with Aadhaar by visiting member portal. Thereafter the employer must approve the same to complete the linkage. Alternatively, member can ask his employer to link Aadhaar with UAN. The member can use \\x93e-KYC Portal\\x94 under Online Service available on home page of EPFO website or e-KYC service under EPFO in UMANG APP to link his/her UAN with Aadhaar without employer\\x92s intervention.', metadata={'source': 'What can I do if my UAN is not seeded with Aadhaar', 'row': 10}),\n",
              "  Document(page_content='Question: How can I seed my KYC details with UAN\\nAnswer: o Login to your EPF account at the unified member portal o Click on the \\x93KYC\\x94 option in the \\x93Manage\\x94 section o You can select the details (PAN, Bank Account, Aadhar etc) which you want to link with UAN o Fill in the requisite fields o Now click on the \\x93Save\\x94 option o Your request will be displayed in \\x93KYC Pending for Approval\\x94 o Once employer approves the details the message will be changed to \\x93Digitally approved by the employer\\x94 o Once UIDAI confirms your details, \\x93Verified by UIDAI\\x94 is displayed against your Aadhaar.', metadata={'source': 'How can I seed my KYC details with UAN', 'row': 12}),\n",
              "  Document(page_content='Question: What are the minimum details which are required to be linked with UAN for availing online services\\nAnswer: Mobile, Aadhar and Bank account number.', metadata={'source': 'What are the minimum details which are required to be linked with UAN for availing online services', 'row': 21}),\n",
              "  Document(page_content='Question: How can a member know his UAN\\nAnswer: o Visit unified member portal. o Enter mobile number as per EPFO records. o Click on the \\x93Get Authorization Pin\\x94 option. o A Pin will be sent to your mobile number registered with EPFO and enter the Pin. o Enter the details such as name, Date of Birth as per EPFO records and select any one of Aadhaar, PAN, Member Id and furnish the details then click \\x93Show my UAN\\x94.', metadata={'source': 'How can a member know his UAN', 'row': 4})]}"
            ]
          },
          "metadata": {},
          "execution_count": 75
        }
      ]
    },
    {
      "cell_type": "code",
      "source": [
        "chain(\"What if I purchase a mobile phone, do I need to create an account\")"
      ],
      "metadata": {
        "colab": {
          "base_uri": "https://localhost:8080/"
        },
        "id": "awM0gqNmnnU3",
        "outputId": "e98c278b-92f9-46f4-be43-a3641165029b"
      },
      "execution_count": null,
      "outputs": [
        {
          "output_type": "execute_result",
          "data": {
            "text/plain": [
              "{'query': 'What if I purchase a mobile phone, do I need to create an account',\n",
              " 'result': \"\\nAnswer: I don't know.\",\n",
              " 'source_documents': [Document(page_content='Question: Can I apply online claim if my mobile is not linked with Aadhaar\\nAnswer: No, you cannot submit online claim if your mobile is not linked with Aadhaar. At the time of claim submission, OTP is sent to Aadhaar linked mobile only.', metadata={'source': 'Can I apply online claim if my mobile is not linked with Aadhaar', 'row': 29}),\n",
              "  Document(page_content='Question: What are the minimum details which are required to be linked with UAN for availing online services\\nAnswer: Mobile, Aadhar and Bank account number.', metadata={'source': 'What are the minimum details which are required to be linked with UAN for availing online services', 'row': 21}),\n",
              "  Document(page_content='Question: Can one mobile number be linked with multiple UANs\\nAnswer: One mobile number can be used for registration with one UAN only.', metadata={'source': 'Can one mobile number be linked with multiple UANs', 'row': 6}),\n",
              "  Document(page_content='Question: Can I activate UAN through SMS or mobile app\\nAnswer: You cannot activate UAN through SMS. However, you can activate UAN through Umang App. To download Umang app, please visit Google Play store.', metadata={'source': 'Can I activate UAN through SMS or mobile app', 'row': 18})]}"
            ]
          },
          "metadata": {},
          "execution_count": 11
        }
      ]
    },
    {
      "cell_type": "markdown",
      "source": [
        "## Observations:\n",
        "1. For an asked questions, similar questions were able to find from vector database.\n",
        "2. Multiple similar questions found for an asked questions. Multiple answers from these quesions were summarised nicely by llm.\n",
        "3. For a question which is not related to the base question and answer document, retrieval chain provides answer I don't know.\n"
      ],
      "metadata": {
        "id": "wX28fClmOUNj"
      }
    },
    {
      "cell_type": "markdown",
      "source": [
        "## Saving the vecotr database for app development\n",
        "Prepared vector database will be used as an input for app development. In the case of changes in question and answer or improving embedding procedure this vector database needs to be updated."
      ],
      "metadata": {
        "id": "204h0VPzoySU"
      }
    },
    {
      "cell_type": "code",
      "source": [
        "import pickle"
      ],
      "metadata": {
        "id": "LMafqfWtrhJ0"
      },
      "execution_count": null,
      "outputs": []
    },
    {
      "cell_type": "code",
      "source": [
        "# Lets save the vector database\n",
        "pickle_path = '/content/drive/MyDrive/Career/Applied AI Course/Case Studies/EPFO LLM Project/'\n",
        "pickle_out=open(pickle_path+'vectordb.pickle', 'wb')\n",
        "pickle.dump(vectordb,pickle_out)\n",
        "pickle_out.close()"
      ],
      "metadata": {
        "id": "ybJGMEDJq-uE"
      },
      "execution_count": null,
      "outputs": []
    },
    {
      "cell_type": "code",
      "source": [
        "# Lets save the retriever\n",
        "pickle_path = '/content/drive/MyDrive/Career/Applied AI Course/Case Studies/EPFO LLM Project/'\n",
        "pickle_out=open(pickle_path+'retriever.pickle', 'wb')\n",
        "pickle.dump(retriever,pickle_out)\n",
        "pickle_out.close()"
      ],
      "metadata": {
        "id": "bUMGzlz5rlR6"
      },
      "execution_count": null,
      "outputs": []
    }
  ]
}